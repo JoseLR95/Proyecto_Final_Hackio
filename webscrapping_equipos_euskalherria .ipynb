{
 "cells": [
  {
   "cell_type": "code",
   "execution_count": 1,
   "id": "c5cf86f8",
   "metadata": {},
   "outputs": [],
   "source": [
    "import pandas as pd\n",
    "import numpy as np\n",
    "import requests\n",
    "from selenium import webdriver\n",
    "from selenium.webdriver.chrome.service import Service\n",
    "from selenium.webdriver.chrome.options import Options\n",
    "from webdriver_manager.chrome import ChromeDriverManager\n",
    "from selenium.webdriver.common.by import By\n",
    "from selenium.webdriver.common.keys import Keys\n",
    "from selenium.webdriver.support.ui import WebDriverWait\n",
    "from selenium.webdriver.support import expected_conditions as EC\n",
    "from selenium.common.exceptions import TimeoutException, NoSuchElementException\n",
    "import time\n",
    "import pickle"
   ]
  },
  {
   "cell_type": "code",
   "execution_count": 2,
   "id": "f31ec429",
   "metadata": {},
   "outputs": [
    {
     "name": "stdout",
     "output_type": "stream",
     "text": [
      "Botón de aceptar clickeado\n"
     ]
    }
   ],
   "source": [
    "# Conseguir la lista de los equipos de La Liga 2015\n",
    "lista_equipos = []\n",
    "# Configuración del navegador\n",
    "service = Service(ChromeDriverManager().install())\n",
    "options = Options()\n",
    "options.add_argument(\"--start-maximized\")\n",
    "driver = webdriver.Chrome(service=service, options=options)\n",
    "# URL\n",
    "base_url = \"https://www.livefutbol.com/calendario/esp-primera-division-2015-2016-spieltag/38/\"\n",
    "driver.get(base_url)\n",
    "boton_aceptar = WebDriverWait(driver, 20).until(\n",
    "    EC.visibility_of_element_located((By.XPATH, '//a[@class=\"cmpboxbtn cmpboxbtnyes cmptxt_btn_yes\"]'))\n",
    ")\n",
    "boton_aceptar.click()\n",
    "print(\"Botón de aceptar clickeado\")\n",
    "time.sleep(10)\n",
    "tabla = driver.find_element(By.CSS_SELECTOR, \"table.standard_tabelle\")\n",
    "enlaces = tabla.find_elements(By.CSS_SELECTOR, 'a[href^=\"/equipos/\"]')\n",
    "# Recorrer cada enlace y extraer el nombre del equipo\n",
    "for enlace in enlaces:\n",
    "    href = enlace.get_attribute(\"href\")  # Obtener la URL completa\n",
    "    equipo = href.split(\"/equipos/\")[1].split(\"/\")[0]  # Extraer el nombre del equipo\n",
    "    if equipo not in lista_equipos:\n",
    "        lista_equipos.append(equipo)  # Añadir equipo a la lista si no está ya\n",
    "    time.sleep(0.5)  # Dormir para evitar sobrecargar el servidor\n",
    "driver.quit()\n"
   ]
  },
  {
   "cell_type": "code",
   "execution_count": 5,
   "id": "f52f83fa",
   "metadata": {},
   "outputs": [],
   "source": [
    "# Crear URLs para cada equipo\n",
    "plantilla_url = \"https://www.livefutbol.com/equipos/{x}/2016/2/\"\n",
    "urls_por_equipo = {}\n",
    "for equipo in lista_equipos:\n",
    "    url = plantilla_url.format(x=equipo)\n",
    "    urls_por_equipo[equipo] = url"
   ]
  },
  {
   "cell_type": "code",
   "execution_count": 7,
   "id": "ad4453b5",
   "metadata": {},
   "outputs": [
    {
     "name": "stdout",
     "output_type": "stream",
     "text": [
      "Botón de aceptar clickeado\n",
      "Fin de plantilla detectado en sección: entrenador\n",
      "Fin de plantilla detectado en sección: entrenador\n",
      "Fin de plantilla detectado en sección: segundo entrenador\n",
      "Fin de plantilla detectado en sección: entrenador\n",
      "Fin de plantilla detectado en sección: entrenador\n",
      "Fin de plantilla detectado en sección: entrenador\n",
      "Fin de plantilla detectado en sección: entrenador\n",
      "Fin de plantilla detectado en sección: entrenador\n",
      "Fin de plantilla detectado en sección: entrenador\n",
      "Fin de plantilla detectado en sección: entrenador\n",
      "Fin de plantilla detectado en sección: entrenador\n",
      "Fin de plantilla detectado en sección: entrenador\n",
      "Fin de plantilla detectado en sección: entrenador\n",
      "Fin de plantilla detectado en sección: entrenador\n",
      "Fin de plantilla detectado en sección: entrenador\n",
      "Fin de plantilla detectado en sección: entrenador\n",
      "Fin de plantilla detectado en sección: entrenador\n",
      "Fin de plantilla detectado en sección: entrenador\n",
      "Fin de plantilla detectado en sección: entrenador\n",
      "Fin de plantilla detectado en sección: entrenador\n"
     ]
    }
   ],
   "source": [
    "# Conseguir una lista con todos los jugadores de cada equipo\n",
    "jugadores = {}\n",
    "service = Service(ChromeDriverManager().install())\n",
    "options = Options()\n",
    "options.add_argument(\"--start-maximized\")\n",
    "driver = webdriver.Chrome(service=service, options=options)\n",
    "for x, i in urls_por_equipo.items():\n",
    "    # URL\n",
    "    driver.get(i)\n",
    "    # Espera\n",
    "    wait = WebDriverWait(driver, 10)\n",
    "    # Clic en el botón de cookies\n",
    "    try:\n",
    "        boton_aceptar = WebDriverWait(driver, 20).until(\n",
    "            EC.visibility_of_element_located((By.XPATH, '//a[@class=\"cmpboxbtn cmpboxbtnyes cmptxt_btn_yes\"]'))\n",
    "        )\n",
    "        boton_aceptar.click()\n",
    "        print(\"Botón de aceptar clickeado\")\n",
    "    except:\n",
    "        pass\n",
    "\n",
    "    tabla = driver.find_element(By.CSS_SELECTOR, \"table.standard_tabelle\")\n",
    "    filas = tabla.find_elements(By.CSS_SELECTOR, \"tr\")\n",
    "    lista_jugadores = []\n",
    "\n",
    "    for fila in filas:\n",
    "        # Detectar encabezado de sección\n",
    "        ths = fila.find_elements(By.TAG_NAME, \"th\")\n",
    "        if ths:\n",
    "            texto_encabezado = ths[0].text.strip().lower()\n",
    "            if \"entrenador\" in texto_encabezado:\n",
    "                print(f\"Fin de plantilla detectado en sección: {texto_encabezado}\")\n",
    "                break  # Cortar el bucle al llegar al cuerpo técnico\n",
    "            continue  # Saltar encabezado si es Portero, Defensa, etc.\n",
    "\n",
    "        # Si es una fila de jugador, busca enlaces a fichas\n",
    "        enlaces = fila.find_elements(By.CSS_SELECTOR, 'a[href^=\"/ficha_jugador/\"]')\n",
    "        for enlace in enlaces:\n",
    "            href = enlace.get_attribute(\"href\")\n",
    "            jugador = href.split(\"/ficha_jugador/\")[1].split(\"/\")[0]\n",
    "            lista_jugadores.append(jugador)\n",
    "        \n",
    "    jugadores[x] = lista_jugadores\n",
    "\n",
    "    time.sleep(1)\n",
    "driver.quit()"
   ]
  },
  {
   "cell_type": "code",
   "execution_count": 22,
   "id": "1426cd4d",
   "metadata": {},
   "outputs": [],
   "source": [
    "# Crear una URL por cada jugador\n",
    "plantilla_url_jugador = \"https://www.livefutbol.com/ficha_jugador/{x}\"\n",
    "urls_por_jugador = {}\n",
    "for equipo, plantilla in jugadores.items():\n",
    "    urls_jugador = {}\n",
    "    for jugador in plantilla:\n",
    "        url = plantilla_url_jugador.format(x=jugador)\n",
    "        urls_jugador[jugador] = url\n",
    "    urls_por_jugador[equipo] = urls_jugador"
   ]
  },
  {
   "cell_type": "code",
   "execution_count": null,
   "id": "0821a703",
   "metadata": {},
   "outputs": [],
   "source": [
    "# Guardar a un archivo pickle con las url\n",
    "with open(\"data/urls_por_jugador.pkl\", \"wb\") as f:\n",
    "    pickle.dump(urls_por_jugador, f)"
   ]
  },
  {
   "cell_type": "code",
   "execution_count": 3,
   "id": "d13121ef",
   "metadata": {},
   "outputs": [],
   "source": [
    "# Abrir el archivo\n",
    "with open(\"urls_por_jugador.pkl\", \"rb\") as f:\n",
    "    urls_por_jugador = pickle.load(f)"
   ]
  },
  {
   "cell_type": "code",
   "execution_count": 4,
   "id": "b05cdbd8",
   "metadata": {},
   "outputs": [],
   "source": [
    "# Creamos listado_jugadores para no modificar el archivo\n",
    "listado_jugadores = urls_por_jugador"
   ]
  },
  {
   "cell_type": "code",
   "execution_count": 5,
   "id": "f76f33e9",
   "metadata": {},
   "outputs": [],
   "source": [
    "# Obtenemos el historial de en que equipo ha jugado cada jugador\n",
    "service = Service(ChromeDriverManager().install())\n",
    "options = Options()\n",
    "options.add_argument(\"--start-maximized\")\n",
    "driver = webdriver.Chrome(service=service, options=options)\n",
    "\n",
    "for equipo, plantilla in listado_jugadores.items():\n",
    "    for jugador, url in plantilla.items():\n",
    "        # Inicializar bio y historial para cada jugador\n",
    "        bio = {\"info\": [], \"historial\": []}\n",
    "        historial = []\n",
    "        info = []\n",
    "        \n",
    "        driver.get(url)\n",
    "        \n",
    "        # Aceptar cookies si es necesario\n",
    "        try:\n",
    "            WebDriverWait(driver, 5).until(\n",
    "            EC.element_to_be_clickable((By.ID, \"cmpbntyestxt\"))).click()\n",
    "        except:\n",
    "            pass\n",
    "\n",
    "        # Aceptar cookies si es necesario (segundo intento)\n",
    "        try:\n",
    "            WebDriverWait(driver, 5).until(\n",
    "            EC.element_to_be_clickable((By.ID, \"cmpbntyestxt\"))).click()\n",
    "        except:\n",
    "            pass\n",
    "\n",
    "        # Obtener tabla del historial\n",
    "        boxes = driver.find_elements(By.CLASS_NAME, \"box\")\n",
    "        for box in boxes:\n",
    "            try:\n",
    "                h2 = box.find_element(By.TAG_NAME, \"h2\")\n",
    "                if h2.text.strip() == \"Trayectoria como jugador\":\n",
    "                    # Si el h2 coincide, busca la tabla dentro del mismo box\n",
    "                    table = box.find_element(By.CLASS_NAME, \"standard_tabelle\")\n",
    "                    break  # Salir del bucle una vez encontrada la tabla\n",
    "            except:\n",
    "                continue\n",
    "\n",
    "        filas_historial = table.find_elements(By.CSS_SELECTOR, 'tr')\n",
    "        info_historial = filas_historial[0:-1]\n",
    "            \n",
    "        # Recorrer cada enlace y extraer el historial del jugador\n",
    "        for fila in info_historial:\n",
    "            celdas = fila.find_elements(By.TAG_NAME, \"td\")\n",
    "            fecha = celdas[0].text.strip()\n",
    "            equipo_nombre = celdas[2].text.strip()\n",
    "            if fecha != \"\":\n",
    "                historial.append({\n",
    "                        \"fecha\": fecha,\n",
    "                        \"equipo\": equipo_nombre,\n",
    "                    })\n",
    "                bio[\"historial\"] = historial\n",
    "        \n",
    "        # Obtener información del jugador\n",
    "        try:\n",
    "            nombre__deportivo_jugador = driver.find_element(By.CSS_SELECTOR, 'div.head h2[itemprop=\"name\"]').text.strip()\n",
    "            \n",
    "            # Buscar la tabla con la información del jugador\n",
    "            tabla_jugador = driver.find_element(By.CSS_SELECTOR, \"table.standard_tabelle.yellow\")\n",
    "            filas_jugador = tabla_jugador.find_elements(By.CSS_SELECTOR, 'tr')\n",
    "            celdas = filas_jugador[0].find_elements(By.TAG_NAME, \"td\")\n",
    "            nombre_completo = celdas[0].text.strip()\n",
    "            if nombre_completo == \"Fecha de nacimiento:\":\n",
    "                nombre_completo = nombre__deportivo_jugador    \n",
    "            info.append({\n",
    "                \"nombre__deportivo_jugador\": nombre__deportivo_jugador,\n",
    "                \"nombre_completo\": nombre_completo})\n",
    "            bio[\"info\"] = info\n",
    "        except Exception as e:\n",
    "            print(f\"Error al obtener información de {jugador}: {e}\")\n",
    "        \n",
    "        # Actualizar la entrada en el diccionario\n",
    "        listado_jugadores[equipo][jugador] = bio\n",
    "        time.sleep(1)  # Esperar para evitar sobrecargar el servidor\n",
    "\n",
    "driver.quit()"
   ]
  },
  {
   "cell_type": "code",
   "execution_count": null,
   "id": "f4d4f6c7",
   "metadata": {},
   "outputs": [],
   "source": [
    "listado_jugadores"
   ]
  },
  {
   "cell_type": "code",
   "execution_count": null,
   "id": "d7d4d103",
   "metadata": {},
   "outputs": [],
   "source": [
    "# Guardamos el archivo\n",
    "with open(\"data/historial_jugadores.pkl\", \"wb\") as f:\n",
    "    pickle.dump(listado_jugadores, f)"
   ]
  },
  {
   "cell_type": "code",
   "execution_count": null,
   "id": "47845819",
   "metadata": {},
   "outputs": [],
   "source": [
    "# Abrir el archivo\n",
    "with open(\"historial_jugadores.pkl\", \"rb\") as f:\n",
    "    listado_jugadores = pickle.load(f)"
   ]
  },
  {
   "cell_type": "code",
   "execution_count": 21,
   "id": "948ad480",
   "metadata": {},
   "outputs": [],
   "source": [
    "# Crear una URL por cada jugador\n",
    "plantilla_url_jugador = \"https://www.livefutbol.com/equipos/{x}\"\n",
    "urls_por_equipo_historico = {}\n",
    "for equipo in lista_equipos:\n",
    "    url = plantilla_url.format(x=equipo)\n",
    "    urls_por_equipo_historico[equipo] = url"
   ]
  },
  {
   "cell_type": "code",
   "execution_count": null,
   "id": "7793a0fa",
   "metadata": {},
   "outputs": [],
   "source": [
    "urls_por_equipo_historico"
   ]
  },
  {
   "cell_type": "code",
   "execution_count": 35,
   "id": "1c803437",
   "metadata": {},
   "outputs": [],
   "source": [
    "equipos_relacionados = {}\n",
    "service = Service(ChromeDriverManager().install())\n",
    "options = Options()\n",
    "options.add_argument(\"--start-maximized\")\n",
    "driver = webdriver.Chrome(service=service, options=options)\n",
    "for equipo, url in urls_por_equipo_historico.items():\n",
    "\n",
    "    driver.get(url)\n",
    "    # Aceptar cookies si es necesario\n",
    "    try:\n",
    "        WebDriverWait(driver, 5).until(\n",
    "        EC.element_to_be_clickable((By.ID, \"cmpbntyestxt\"))).click()\n",
    "    except:\n",
    "        pass\n",
    "    # Obtener nombre completo equipo\n",
    "    tabla_equipo = driver.find_element(By.CSS_SELECTOR, \"table.standard_tabelle.yellow\")\n",
    "    filas_jugador = tabla_equipo.find_elements(By.CSS_SELECTOR, 'tr')\n",
    "    celdas = filas_jugador[0].find_elements(By.TAG_NAME, \"td\")\n",
    "    nombre_completo = celdas[0].text.strip()\n",
    "    equipos_filial = {}\n",
    "    historial_equipos = []\n",
    "    # Obtener tabla más equipos\n",
    "    tabla = driver.find_elements(By.CSS_SELECTOR, \"table.standard_tabelle\")\n",
    "    filas_historial = tabla[2].find_elements(By.CSS_SELECTOR, 'tr')\n",
    "    # Recorrer cada enlace y extraer el nombre del jugador\n",
    "    for fila in filas_historial:\n",
    "        celdas = fila.find_elements(By.TAG_NAME, \"td\")\n",
    "        celdas_validas = [celdas[i].text.strip() for i in range(len(celdas)) if i % 2 == 1]\n",
    "        historial_equipos.append(celdas_validas)\n",
    "    equipos_filial[nombre_completo] = historial_equipos\n",
    "    equipos_relacionados[equipo] = equipos_filial\n",
    "    time.sleep(1)\n",
    "\n",
    "driver.quit()"
   ]
  },
  {
   "cell_type": "code",
   "execution_count": null,
   "id": "c4117717",
   "metadata": {},
   "outputs": [],
   "source": [
    "equipos_relacionados"
   ]
  },
  {
   "cell_type": "code",
   "execution_count": null,
   "id": "73ea1636",
   "metadata": {},
   "outputs": [],
   "source": [
    "# Guardamos el archivo\n",
    "with open(\"data/equipos_relacionados.pkl\", \"wb\") as f:\n",
    "    pickle.dump(equipos_relacionados, f)"
   ]
  },
  {
   "cell_type": "code",
   "execution_count": 3,
   "id": "698ca9f9",
   "metadata": {},
   "outputs": [],
   "source": [
    "#Extraer equipos Pais Vasco\n",
    "lista_equipos_pais_vasco_frances = []\n",
    "#URLS\n",
    "lista_urls = [\"https://www.ceroacero.es/equipos/futbol/pais-vasco/masculino\",\n",
    "              \"https://www.ceroacero.es/equipos/futbol/navarra/masculino\",\n",
    "              \"https://www.ceroacero.es/equipos/futbol/aquitaine?search_txt=\",\n",
    "              \"https://www.ceroacero.es/equipos/occitanie?search_txt=\"]\n",
    "# Configuración del navegador\n",
    "service = Service(ChromeDriverManager().install())\n",
    "options = Options()\n",
    "options.add_argument(\"--start-maximized\")\n",
    "driver = webdriver.Chrome(service=service, options=options)\n",
    "# URL\n",
    "for url in lista_urls:\n",
    "    base_url = url\n",
    "    driver.get(base_url)\n",
    "    try:\n",
    "        cookie_button = driver.find_element(By.CSS_SELECTOR, \".fc-button-label\")\n",
    "        cookie_button.click()\n",
    "    except:\n",
    "        pass  # En caso de que no aparezca seguir con el código\n",
    "    try:\n",
    "        cookie_button2 = driver.find_element(By.CSS_SELECTOR, \".ns-xhr8a-e-16\")\n",
    "        cookie_button2.click()\n",
    "    except:\n",
    "        pass  # En caso de que no aparezca seguir con el código\n",
    "    ver_mas = driver.find_element(By.CSS_SELECTOR, \"a#club_team_id.viewall-link\").click()\n",
    "    tabla = driver.find_element(By.CSS_SELECTOR, \".zz-popup-content.filter-popup-content\")\n",
    "    flex_items = tabla.find_elements(By.CSS_SELECTOR, \"li[style*='display: flex']\")\n",
    "    # Recorrer cada enlace y extraer el nombre del equipo\n",
    "    for item in flex_items:\n",
    "        enlace = item.find_element(By.TAG_NAME, \"a\")\n",
    "        # Obtener el texto del enlace\n",
    "        nombre = enlace.text.strip()\n",
    "        equipo = nombre.split(\"\\n\")[0]\n",
    "        if equipo not in lista_equipos_pais_vasco_frances:\n",
    "            lista_equipos_pais_vasco_frances.append(equipo)  # Añadir equipo a la lista si no está ya\n",
    "        time.sleep(0.5)  # Dormir para evitar sobrecargar el servidor\n",
    "driver.quit()\n"
   ]
  },
  {
   "cell_type": "code",
   "execution_count": 1,
   "id": "acbb8290",
   "metadata": {},
   "outputs": [
    {
     "ename": "NameError",
     "evalue": "name 'lista_equipos_pais_vasco_frances' is not defined",
     "output_type": "error",
     "traceback": [
      "\u001b[31m---------------------------------------------------------------------------\u001b[39m",
      "\u001b[31mNameError\u001b[39m                                 Traceback (most recent call last)",
      "\u001b[36mCell\u001b[39m\u001b[36m \u001b[39m\u001b[32mIn[1]\u001b[39m\u001b[32m, line 1\u001b[39m\n\u001b[32m----> \u001b[39m\u001b[32m1\u001b[39m \u001b[43mlista_equipos_pais_vasco_frances\u001b[49m\n",
      "\u001b[31mNameError\u001b[39m: name 'lista_equipos_pais_vasco_frances' is not defined"
     ]
    }
   ],
   "source": [
    "lista_equipos_pais_vasco_frances"
   ]
  }
 ],
 "metadata": {
  "kernelspec": {
   "display_name": "venv",
   "language": "python",
   "name": "python3"
  },
  "language_info": {
   "codemirror_mode": {
    "name": "ipython",
    "version": 3
   },
   "file_extension": ".py",
   "mimetype": "text/x-python",
   "name": "python",
   "nbconvert_exporter": "python",
   "pygments_lexer": "ipython3",
   "version": "3.12.5"
  }
 },
 "nbformat": 4,
 "nbformat_minor": 5
}
