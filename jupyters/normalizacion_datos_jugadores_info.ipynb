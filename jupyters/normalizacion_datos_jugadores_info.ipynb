{
 "cells": [
  {
   "cell_type": "code",
   "execution_count": null,
   "id": "40feb25d",
   "metadata": {},
   "outputs": [],
   "source": [
    "import pandas as pd\n",
    "from rapidfuzz import process, fuzz\n",
    "import src as src\n",
    "pd.set_option('display.max_columns', None)"
   ]
  },
  {
   "cell_type": "code",
   "execution_count": null,
   "id": "9926a3d0",
   "metadata": {},
   "outputs": [],
   "source": [
    "df_eventos = pd.read_csv(\"data/df_eventos_liga2015.csv\")"
   ]
  },
  {
   "cell_type": "code",
   "execution_count": null,
   "id": "b5ea55f9",
   "metadata": {},
   "outputs": [],
   "source": [
    "df_jugadores_info = pd.read_csv(\"data/jugadores_info.csv\")"
   ]
  },
  {
   "cell_type": "code",
   "execution_count": null,
   "id": "0ba72123",
   "metadata": {},
   "outputs": [],
   "source": [
    "df_jugadores_info[df_jugadores_info[\"playerFullName\"] == \"Sergio Álvarez\"]"
   ]
  },
  {
   "cell_type": "code",
   "execution_count": null,
   "id": "f2025e5e",
   "metadata": {},
   "outputs": [],
   "source": [
    "df_jugadores_info[df_jugadores_info[\"playerFullName\"] == \"Pablo Hernández\"]"
   ]
  },
  {
   "cell_type": "code",
   "execution_count": null,
   "id": "3732a912",
   "metadata": {},
   "outputs": [],
   "source": [
    "df_jugadores_info[df_jugadores_info[\"playerFullName\"] == \"Pedro López\"]"
   ]
  },
  {
   "cell_type": "code",
   "execution_count": null,
   "id": "f43c1d16",
   "metadata": {},
   "outputs": [],
   "source": [
    "# Cambiar el primer 'Sergio Alvarez'\n",
    "sergio_idx = df_jugadores_info[df_jugadores_info['playerFullName'] == 'Sergio Álvarez'].index[0]\n",
    "df_jugadores_info.at[sergio_idx, 'playerFullName'] = 'Sergio Álvarez Conde'"
   ]
  },
  {
   "cell_type": "code",
   "execution_count": null,
   "id": "b4d4c89c",
   "metadata": {},
   "outputs": [],
   "source": [
    "# Cambiar el primer 'Pablo Hernandez'\n",
    "pablo_idx = df_jugadores_info[df_jugadores_info['playerFullName'] == 'Pablo Hernández'].index[0]\n",
    "df_jugadores_info.at[pablo_idx, 'playerFullName'] = 'Pedro Pablo Hernández'"
   ]
  },
  {
   "cell_type": "code",
   "execution_count": null,
   "id": "fc794b05",
   "metadata": {},
   "outputs": [],
   "source": [
    "# Cambiar el primer 'Pedro López'\n",
    "pedro_idx = df_jugadores_info[df_jugadores_info['playerFullName'] == 'Pedro López'].index[1]\n",
    "df_jugadores_info.at[pedro_idx, 'playerFullName'] = 'Pedro López Muñoz'"
   ]
  },
  {
   "cell_type": "code",
   "execution_count": null,
   "id": "deb58841",
   "metadata": {},
   "outputs": [],
   "source": [
    "df_jugadoresunicos_eventos = df_eventos[\"player\"].unique().tolist()\n",
    "df_jugadoresunicos_info = df_jugadores_info[\"playerFullName\"].unique().tolist()\n",
    "df_clubesunicos_eventos = df_eventos[\"team\"].unique().tolist()\n",
    "df_clubesunicos_info = df_jugadores_info[\"club\"].unique().tolist()"
   ]
  },
  {
   "cell_type": "code",
   "execution_count": null,
   "id": "38da5702",
   "metadata": {},
   "outputs": [],
   "source": [
    "df_nombres = src.normalizacion_nombres(df_jugadoresunicos_info, df_jugadoresunicos_eventos)"
   ]
  },
  {
   "cell_type": "code",
   "execution_count": null,
   "id": "8ba5b982",
   "metadata": {},
   "outputs": [],
   "source": [
    "df_clubes = src.normalizacion_nombres(df_clubesunicos_info, df_clubesunicos_eventos)"
   ]
  },
  {
   "cell_type": "code",
   "execution_count": null,
   "id": "85de85b9",
   "metadata": {},
   "outputs": [],
   "source": [
    "# Crear diccionario para mapear los nombres\n",
    "dict_nombres_info = df_nombres.set_index('Nombre_original')['Nombre_unificado'].to_dict()\n",
    "# Mapear nombres jugadores\n",
    "df_jugadores_info[\"playerFullName\"] = df_jugadores_info[\"playerFullName\"].apply(\n",
    "    lambda x: dict_nombres_info.get(x, x) if dict_nombres_info.get(x) is not None else x)"
   ]
  },
  {
   "cell_type": "code",
   "execution_count": null,
   "id": "28d5f046",
   "metadata": {},
   "outputs": [],
   "source": [
    "# Crear diccionario para mapear los equipos\n",
    "df_equipos_jugadores = df_eventos[[\"player\", \"team\"]].drop_duplicates()\n",
    "dict_equipos_jugadores = dict(zip(df_equipos_jugadores[\"player\"], df_equipos_jugadores[\"team\"]))\n",
    "# Mapear los equipos en la temporada 2015/2016 ya que la info que aparece es actual\n",
    "df_jugadores_info[\"club\"] = df_jugadores_info[\"playerFullName\"].map(dict_equipos_jugadores)"
   ]
  },
  {
   "cell_type": "code",
   "execution_count": null,
   "id": "c24af9cb",
   "metadata": {},
   "outputs": [],
   "source": [
    "# Crear diccionarios para mapear los IDs de jugador y equipo\n",
    "df_equipos = df_eventos[[\"team\", \"team_id\"]].drop_duplicates()\n",
    "dict_equipos = dict(zip(df_equipos[\"team\"], df_equipos[\"team_id\"]))\n",
    "df_jugadores = df_eventos[[\"player\", \"player_id\"]].drop_duplicates()\n",
    "dict_jugadores = dict(zip(df_jugadores[\"player\"], df_jugadores[\"player_id\"]))"
   ]
  },
  {
   "cell_type": "code",
   "execution_count": null,
   "id": "e49f05b6",
   "metadata": {},
   "outputs": [],
   "source": [
    "# Mapear ID Jugadores\n",
    "df_jugadores_info[\"playerID\"] = df_jugadores_info[\"playerFullName\"].map(dict_jugadores)\n",
    "# Mapear ID Equipos\n",
    "df_jugadores_info[\"clubID\"] = df_jugadores_info[\"club\"].map(dict_equipos)"
   ]
  },
  {
   "cell_type": "code",
   "execution_count": 2,
   "id": "616d05eb",
   "metadata": {},
   "outputs": [],
   "source": [
    "df_jugadores_info = pd.read_csv(\"data/jugadores_LaLiga_completo_normalizado.csv\")"
   ]
  },
  {
   "cell_type": "code",
   "execution_count": 3,
   "id": "ac26ae7a",
   "metadata": {},
   "outputs": [],
   "source": [
    "df_tabla = pd.read_csv(\"data/jugadores_info_normalizado.csv\")"
   ]
  },
  {
   "cell_type": "code",
   "execution_count": null,
   "id": "d4c7aac0",
   "metadata": {},
   "outputs": [],
   "source": [
    "df_tabla.columns"
   ]
  },
  {
   "cell_type": "code",
   "execution_count": 4,
   "id": "cf82902e",
   "metadata": {},
   "outputs": [],
   "source": [
    "df_jugadores_info.drop(columns=(['player_name', 'team_id', 'player_country_code', 'age',\n",
    "       'positions', 'unused_sub',\n",
    "       'team_gls_on_pitch', 'team_gls_ag_on_pitch', 'per90_plus_minus',\n",
    "       'per90_on_off']), inplace=True)"
   ]
  },
  {
   "cell_type": "code",
   "execution_count": 5,
   "id": "f4bb1f96",
   "metadata": {},
   "outputs": [],
   "source": [
    "df_combinado = df_tabla.merge(\n",
    "    df_jugadores_info,\n",
    "    left_on=[\"playerID\"],\n",
    "    right_on=[\"player_id\"],\n",
    "    how=\"left\"\n",
    ")"
   ]
  },
  {
   "cell_type": "code",
   "execution_count": 8,
   "id": "9948a4d2",
   "metadata": {},
   "outputs": [],
   "source": [
    "df_combinado.drop(columns=([\"player_id\"]), inplace=True)"
   ]
  },
  {
   "cell_type": "code",
   "execution_count": 9,
   "id": "62bfeded",
   "metadata": {},
   "outputs": [],
   "source": [
    "df_combinado.to_csv(\"data/jugadores_info_normalizado.csv\", index=False)"
   ]
  }
 ],
 "metadata": {
  "kernelspec": {
   "display_name": "venv",
   "language": "python",
   "name": "python3"
  },
  "language_info": {
   "codemirror_mode": {
    "name": "ipython",
    "version": 3
   },
   "file_extension": ".py",
   "mimetype": "text/x-python",
   "name": "python",
   "nbconvert_exporter": "python",
   "pygments_lexer": "ipython3",
   "version": "3.12.5"
  }
 },
 "nbformat": 4,
 "nbformat_minor": 5
}
