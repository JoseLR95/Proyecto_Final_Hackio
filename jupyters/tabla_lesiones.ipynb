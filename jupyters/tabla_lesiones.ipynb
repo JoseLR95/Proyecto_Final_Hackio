{
 "cells": [
  {
   "cell_type": "code",
   "execution_count": 1,
   "id": "d15efdd8",
   "metadata": {},
   "outputs": [],
   "source": [
    "import pandas as pd\n",
    "pd.set_option('display.max_columns', None)\n",
    "import os\n",
    "from dotenv import load_dotenv\n",
    "import requests\n",
    "from src import insertar_datos_automatico, conexion_postgres, convertir_fechaeventos\n",
    "import psycopg2\n",
    "import datetime"
   ]
  },
  {
   "cell_type": "code",
   "execution_count": 2,
   "id": "f6851281",
   "metadata": {},
   "outputs": [],
   "source": [
    "df_lesiones = pd.read_csv(\"data/lesiones_completo_normalizado.csv\")"
   ]
  },
  {
   "cell_type": "code",
   "execution_count": 3,
   "id": "f6b841cb",
   "metadata": {},
   "outputs": [],
   "source": [
    "df_lesiones.rename(columns = {\n",
    "    'JUGADOR': 'Nombre_Jugador',\n",
    "    'href': 'Nombre_Completo_Jugador',\n",
    "    'equipo': 'Club',\n",
    "    'TIPO': 'Tipo_Lesion',\n",
    "    'SUB TIPO': 'Sub_Tipo_Lesion',\n",
    "    'TIPO_ID': 'Tipo_Lesion_ID',\n",
    "    'SUB_TIPO_ID': 'Sub_Tipo_Lesion_ID',\n",
    "    'DATA': 'Fecha_incio_lesion',\n",
    "    'FIM': 'Fecha_fin_lesion'\n",
    "}, inplace = True)"
   ]
  },
  {
   "cell_type": "code",
   "execution_count": 4,
   "id": "746cb783",
   "metadata": {},
   "outputs": [],
   "source": [
    "df_lesiones = convertir_fechaeventos(df_lesiones)"
   ]
  },
  {
   "cell_type": "code",
   "execution_count": 5,
   "id": "83a06c31",
   "metadata": {},
   "outputs": [],
   "source": [
    "df_lesiones = df_lesiones.dropna(subset=[\"playerID\"])\n",
    "df_lesiones[\"playerID\"] = df_lesiones[\"playerID\"].astype(int)\n",
    "df_lesiones[\"clubID\"] = df_lesiones[\"clubID\"].astype(int)"
   ]
  },
  {
   "cell_type": "code",
   "execution_count": 6,
   "id": "943b18e5",
   "metadata": {},
   "outputs": [
    {
     "data": {
      "text/plain": [
       "Nombre_Jugador             object\n",
       "Tipo_Lesion                object\n",
       "Sub_Tipo_Lesion            object\n",
       "Fecha_incio_lesion         object\n",
       "Fecha_fin_lesion           object\n",
       "Nombre_Completo_Jugador    object\n",
       "Club                       object\n",
       "playerID                    int64\n",
       "clubID                      int64\n",
       "Tipo_Lesion_ID              int64\n",
       "Sub_Tipo_Lesion_ID          int64\n",
       "dtype: object"
      ]
     },
     "execution_count": 6,
     "metadata": {},
     "output_type": "execute_result"
    }
   ],
   "source": [
    "df_lesiones.dtypes"
   ]
  },
  {
   "cell_type": "code",
   "execution_count": 7,
   "id": "48fc4358",
   "metadata": {},
   "outputs": [],
   "source": [
    "df_lesiones = df_lesiones[df_lesiones[\"Tipo_Lesion\"] == \"Injury\"]"
   ]
  },
  {
   "cell_type": "code",
   "execution_count": 8,
   "id": "33d2b33a",
   "metadata": {},
   "outputs": [],
   "source": [
    "df_lesiones.drop(columns=([\"Tipo_Lesion_ID\", \"Tipo_Lesion\"]), inplace=True)"
   ]
  },
  {
   "cell_type": "code",
   "execution_count": 12,
   "id": "f52440cb",
   "metadata": {},
   "outputs": [],
   "source": [
    "df_lesiones.rename(columns = {\n",
    "    'Sub_Tipo_Lesion': 'Tipo_Lesion',\n",
    "    'Sub_Tipo_Lesion_ID': 'Tipo_Lesion_ID',\n",
    "}, inplace = True)"
   ]
  },
  {
   "cell_type": "code",
   "execution_count": 13,
   "id": "7ec7c235",
   "metadata": {},
   "outputs": [],
   "source": [
    "tabla_indice_lesiones = df_lesiones[[\"Tipo_Lesion\", \"Tipo_Lesion_ID\"]].drop_duplicates()"
   ]
  },
  {
   "cell_type": "code",
   "execution_count": 17,
   "id": "51c711c3",
   "metadata": {},
   "outputs": [],
   "source": [
    "df_lesiones[\"ID_Lesion\"] = df_lesiones[\"Nombre_Jugador\"].index"
   ]
  },
  {
   "cell_type": "code",
   "execution_count": 19,
   "id": "b86ea4d8",
   "metadata": {},
   "outputs": [
    {
     "name": "stdout",
     "output_type": "stream",
     "text": [
      "('PostgreSQL 16.4, compiled by Visual C++ build 1940, 64-bit',)\n"
     ]
    }
   ],
   "source": [
    "load_dotenv()\n",
    "dbname = os.getenv(\"dbname\")\n",
    "user = os.getenv(\"user\")\n",
    "password = os.getenv(\"password\")\n",
    "(conn,cur) = conexion_postgres(dbname, user, password)\n",
    "insertar_datos_automatico(df_lesiones,\"lesiones\", cur, conn)\n",
    "insertar_datos_automatico(tabla_indice_lesiones,\"Lesiones_indice\", cur, conn)"
   ]
  },
  {
   "cell_type": "code",
   "execution_count": 20,
   "id": "2b052a68",
   "metadata": {},
   "outputs": [],
   "source": [
    "df_lesiones.to_csv(\"data/Tabla_Lesiones.csv\", index=False)\n",
    "tabla_indice_lesiones.to_csv(\"data/Tabla_Lesiones_indice.csv\", index=False)"
   ]
  },
  {
   "cell_type": "code",
   "execution_count": 33,
   "id": "a00eaf08",
   "metadata": {},
   "outputs": [],
   "source": [
    "df_lesiones = pd.read_csv(\"data/Tabla_Lesiones.csv\")"
   ]
  },
  {
   "cell_type": "code",
   "execution_count": 34,
   "id": "cb08df44",
   "metadata": {},
   "outputs": [],
   "source": [
    "tabla_indice_lesiones = pd.read_csv(\"data/Tabla_Lesiones_indice.csv\")"
   ]
  },
  {
   "cell_type": "code",
   "execution_count": 35,
   "id": "e1c66e02",
   "metadata": {},
   "outputs": [],
   "source": [
    "mapa_lesiones_grupo = {\n",
    "    # 1. Afecciones Abdominales y Gastrointestinales\n",
    "    29: \"Afecciones Abdominales y Gastrointestinales\",  # Stomach Problems\n",
    "    62: \"Afecciones Abdominales y Gastrointestinales\",  # Abdominal Problems\n",
    "\n",
    "    # 2. Afecciones del Tendón de Aquiles\n",
    "    33: \"Afecciones del Tendón de Aquiles\",  # Achilles tendon rupture\n",
    "    44: \"Afecciones del Tendón de Aquiles\",  # Achilles Heel Problems\n",
    "    45: \"Afecciones del Tendón de Aquiles\",  # Achilles tendon problems\n",
    "    61: \"Afecciones del Tendón de Aquiles\",  # Achilles Tendon Irritation\n",
    "\n",
    "    # 3. Lesiones de Cadera\n",
    "    54: \"Lesiones de Cadera\",  # Hip Injury\n",
    "    65: \"Lesiones de Cadera\",  # Hip Bruise\n",
    "\n",
    "    # 4. Lesiones de Cabeza, Cara y Cuello\n",
    "    13: \"Lesiones de Cabeza, Cara y Cuello\",  # Neck Injury\n",
    "    57: \"Lesiones de Cabeza, Cara y Cuello\",  # Cheekbone Fracture\n",
    "    68: \"Lesiones de Cabeza, Cara y Cuello\",  # Facial Fracture\n",
    "\n",
    "    # 5. Lesiones de Espalda\n",
    "    55: \"Lesiones de Espalda\",  # Back Injury\n",
    "\n",
    "    # 6. Lesiones de Hombro y Clavícula\n",
    "    46: \"Lesiones de Hombro y Clavícula\",  # Broken Collarbone\n",
    "    70: \"Lesiones de Hombro y Clavícula\",  # Shoulder Injury\n",
    "\n",
    "    # 7. Lesiones de Ingle, Aductores y Abductores\n",
    "    3:  \"Lesiones de Ingle, Aductores y Abductores\",  # Adductor Pain\n",
    "    6:  \"Lesiones de Ingle, Aductores y Abductores\",  # Tear in the abductor muscle\n",
    "    15: \"Lesiones de Ingle, Aductores y Abductores\",  # Groin Injury\n",
    "    38: \"Lesiones de Ingle, Aductores y Abductores\",  # Adductor Injury\n",
    "    53: \"Lesiones de Ingle, Aductores y Abductores\",  # Groin Problems\n",
    "\n",
    "    # 8. Lesiones de Ligamentos (Generales/No Articulares)\n",
    "    31: \"Lesiones de Ligamentos (Generales/No Articulares)\",  # Ligament Stretching\n",
    "    32: \"Lesiones de Ligamentos (Generales/No Articulares)\",  # Outer Ligament Problems\n",
    "\n",
    "    # 9. Lesiones de Mano y Dedos\n",
    "    47: \"Lesiones de Mano y Dedos\",  # Hand Injury\n",
    "    50: \"Lesiones de Mano y Dedos\",  # Thumb Injury\n",
    "\n",
    "    # 10. Lesiones de Muslo e Isquiotibiales\n",
    "    28: \"Lesiones de Muslo e Isquiotibiales\",  # Hamstring Injury\n",
    "    30: \"Lesiones de Muslo e Isquiotibiales\",  # Hamstring Strain\n",
    "    34: \"Lesiones de Muslo e Isquiotibiales\",  # Thigh Problems\n",
    "    67: \"Lesiones de Muslo e Isquiotibiales\",  # Thigh Muscle Strain\n",
    "\n",
    "    # 11. Lesiones de Pierna Inferior (Pantorrilla y Huesos)\n",
    "    2:  \"Lesiones de Pierna Inferior (Pantorrilla y Huesos)\",  # Calf Injury\n",
    "    11: \"Lesiones de Pierna Inferior (Pantorrilla y Huesos)\",  # Calf Problems\n",
    "    35: \"Lesiones de Pierna Inferior (Pantorrilla y Huesos)\",  # Broken Fibula\n",
    "    41: \"Lesiones de Pierna Inferior (Pantorrilla y Huesos)\",  # Broken Leg\n",
    "    42: \"Lesiones de Pierna Inferior (Pantorrilla y Huesos)\",  # Leg Injury\n",
    "\n",
    "    # 12. Lesiones de Rodilla (Complejo y Contusiones)\n",
    "    10: \"Lesiones de Rodilla (Complejo y Contusiones)\",  # Knee Problems\n",
    "    18: \"Lesiones de Rodilla (Complejo y Contusiones)\",  # Knee Bruise\n",
    "    36: \"Lesiones de Rodilla (Complejo y Contusiones)\",  # Knee Medial Ligament Tear\n",
    "    37: \"Lesiones de Rodilla (Complejo y Contusiones)\",  # Knee Injury\n",
    "    48: \"Lesiones de Rodilla (Complejo y Contusiones)\",  # Cruciate Ligament Injury\n",
    "    49: \"Lesiones de Rodilla (Complejo y Contusiones)\",  # Meniscus Tear\n",
    "    52: \"Lesiones de Rodilla (Complejo y Contusiones)\",  # Cruciate Ligament Tear\n",
    "    58: \"Lesiones de Rodilla (Complejo y Contusiones)\",  # Twisted knee\n",
    "    59: \"Lesiones de Rodilla (Complejo y Contusiones)\",  # Meniscus Injury\n",
    "\n",
    "    # 13. Lesiones de Tobillo, Pie y Dedos\n",
    "    4:  \"Lesiones de Tobillo, Pie y Dedos\",  # Ankle Problems\n",
    "    12: \"Lesiones de Tobillo, Pie y Dedos\",  # Foot Injury\n",
    "    22: \"Lesiones de Tobillo, Pie y Dedos\",  # Ankle Injury\n",
    "    26: \"Lesiones de Tobillo, Pie y Dedos\",  # Toe Injury\n",
    "    27: \"Lesiones de Tobillo, Pie y Dedos\",  # Ankle Sprain\n",
    "    40: \"Lesiones de Tobillo, Pie y Dedos\",  # Broken Toe\n",
    "\n",
    "    # 14. Lesiones Torácicas (Costillas, Pulmón)\n",
    "    25: \"Lesiones Torácicas (Costillas, Pulmón)\",  # Lung Contusion\n",
    "    43: \"Lesiones Torácicas (Costillas, Pulmón)\",  # Bruised Ribs\n",
    "\n",
    "    # 15. Otros y Afecciones Generales\n",
    "    5:  \"Otros y Afecciones Generales\",  # Rest\n",
    "    7:  \"Otros y Afecciones Generales\",  # Muscle Strain\n",
    "    8:  \"Otros y Afecciones Generales\",  # Muscle Injury\n",
    "    14: \"Otros y Afecciones Generales\",  # Torn Muscle Bundle\n",
    "    16: \"Otros y Afecciones Generales\",  # Knock\n",
    "    19: \"Otros y Afecciones Generales\",  # Muscular problems\n",
    "    20: \"Otros y Afecciones Generales\",  # Torn Muscle Fiber\n",
    "    21: \"Otros y Afecciones Generales\",  # Minor Knock\n",
    "    39: \"Otros y Afecciones Generales\",  # Fitness\n",
    "    51: \"Otros y Afecciones Generales\",  # Infection\n",
    "    60: \"Otros y Afecciones Generales\",  # Flu\n",
    "    63: \"Otros y Afecciones Generales\",  # Virus\n",
    "    64: \"Otros y Afecciones Generales\",  # Fever\n",
    "    69: \"Otros y Afecciones Generales\"   # Unknown Injury\n",
    "}"
   ]
  },
  {
   "cell_type": "code",
   "execution_count": 36,
   "id": "f4863091",
   "metadata": {},
   "outputs": [],
   "source": [
    "tabla_indice_lesiones[\"Tipo_Lesion\"] = tabla_indice_lesiones[\"Tipo_Lesion_ID\"].map(mapa_lesiones_grupo)"
   ]
  },
  {
   "cell_type": "code",
   "execution_count": 37,
   "id": "d7917c60",
   "metadata": {},
   "outputs": [],
   "source": [
    "mapa_nombre_grupo_a_nuevo_id = {\n",
    "    \"Afecciones Abdominales y Gastrointestinales\": 1,\n",
    "    \"Afecciones del Tendón de Aquiles\": 2,\n",
    "    \"Lesiones de Cadera\": 3,\n",
    "    \"Lesiones de Cabeza, Cara y Cuello\": 4,\n",
    "    \"Lesiones de Espalda\": 5,\n",
    "    \"Lesiones de Hombro y Clavícula\": 6,\n",
    "    \"Lesiones de Ingle, Aductores y Abductores\": 7,\n",
    "    \"Lesiones de Ligamentos (Generales/No Articulares)\": 8,\n",
    "    \"Lesiones de Mano y Dedos\": 9,\n",
    "    \"Lesiones de Muslo e Isquiotibiales\": 10,\n",
    "    \"Lesiones de Pierna Inferior (Pantorrilla y Huesos)\": 11,\n",
    "    \"Lesiones de Rodilla (Complejo y Contusiones)\": 12,\n",
    "    \"Lesiones de Tobillo, Pie y Dedos\": 13,\n",
    "    \"Lesiones Torácicas (Costillas, Pulmón)\": 14,\n",
    "    \"Otros y Afecciones Generales\": 15\n",
    "}"
   ]
  },
  {
   "cell_type": "code",
   "execution_count": 38,
   "id": "df15291f",
   "metadata": {},
   "outputs": [],
   "source": [
    "tabla_indice_lesiones[\"Tipo_Lesion_ID\"] = tabla_indice_lesiones[\"Tipo_Lesion\"].map(mapa_nombre_grupo_a_nuevo_id)"
   ]
  },
  {
   "cell_type": "code",
   "execution_count": 39,
   "id": "639f66a1",
   "metadata": {},
   "outputs": [],
   "source": [
    "tabla_indice_lesiones = tabla_indice_lesiones.groupby(\"Tipo_Lesion_ID\").count().reset_index()"
   ]
  },
  {
   "cell_type": "code",
   "execution_count": 40,
   "id": "5ee0dd62",
   "metadata": {},
   "outputs": [],
   "source": [
    "mapa_nuevo_id = {\n",
    "   1: \"Abdomen izquierdo\",\n",
    "    2: \"Pantorrilla derecha\",\n",
    "    3: \"Glúteo izquierdo\",\n",
    "    4: \"Cabeza delantera\",\n",
    "    5: \"Erector de la columna izquierdo\",\n",
    "    6: \"Deltoide izquierdo delantero\",\n",
    "    7: \"Aductor largo izquierdo\",\n",
    "    8: \"Recto femoral izquierdo\",\n",
    "    9: \"Flexor Digitorum Izquierdo\",\n",
    "    10: \"Bíceps femoral izquierdo\",\n",
    "    11: \"Pantorrilla izquierda\",\n",
    "    12: \"Rodilla izquierda delantera\",\n",
    "    13: \"Tibial anterior izquierdo\",\n",
    "    14: \"Erector de la columna derecho\",\n",
    "    15: \"Cabeza trasera\"\n",
    "}"
   ]
  },
  {
   "cell_type": "code",
   "execution_count": 41,
   "id": "9bb52379",
   "metadata": {},
   "outputs": [],
   "source": [
    "tabla_indice_lesiones[\"Tipo_Lesion\"] = tabla_indice_lesiones[\"Tipo_Lesion_ID\"].map(mapa_nuevo_id)"
   ]
  },
  {
   "cell_type": "code",
   "execution_count": 43,
   "id": "3ae98d2c",
   "metadata": {},
   "outputs": [
    {
     "data": {
      "text/plain": [
       "array(['Abdomen izquierdo', 'Pantorrilla derecha', 'Glúteo izquierdo',\n",
       "       'Cabeza delantera', 'Erector de la columna izquierdo',\n",
       "       'Deltoide izquierdo delantero', 'Aductor largo izquierdo',\n",
       "       'Recto femoral izquierdo', 'Flexor Digitorum Izquierdo',\n",
       "       'Bíceps femoral izquierdo', 'Pantorrilla izquierda',\n",
       "       'Rodilla izquierda delantera', 'Tibial anterior izquierdo',\n",
       "       'Erector de la columna derecho', 'Cabeza trasera'], dtype=object)"
      ]
     },
     "execution_count": 43,
     "metadata": {},
     "output_type": "execute_result"
    }
   ],
   "source": [
    "tabla_indice_lesiones[\"Tipo_Lesion\"].unique()"
   ]
  },
  {
   "cell_type": "code",
   "execution_count": 34,
   "id": "f7bf79e3",
   "metadata": {},
   "outputs": [
    {
     "data": {
      "text/html": [
       "<div>\n",
       "<style scoped>\n",
       "    .dataframe tbody tr th:only-of-type {\n",
       "        vertical-align: middle;\n",
       "    }\n",
       "\n",
       "    .dataframe tbody tr th {\n",
       "        vertical-align: top;\n",
       "    }\n",
       "\n",
       "    .dataframe thead th {\n",
       "        text-align: right;\n",
       "    }\n",
       "</style>\n",
       "<table border=\"1\" class=\"dataframe\">\n",
       "  <thead>\n",
       "    <tr style=\"text-align: right;\">\n",
       "      <th></th>\n",
       "      <th>Nombre_Jugador</th>\n",
       "      <th>Tipo_Lesion</th>\n",
       "      <th>Fecha_incio_lesion</th>\n",
       "      <th>Fecha_fin_lesion</th>\n",
       "      <th>Nombre_Completo_Jugador</th>\n",
       "      <th>Club</th>\n",
       "      <th>playerID</th>\n",
       "      <th>clubID</th>\n",
       "      <th>Tipo_Lesion_ID</th>\n",
       "      <th>ID_Lesion</th>\n",
       "    </tr>\n",
       "  </thead>\n",
       "  <tbody>\n",
       "    <tr>\n",
       "      <th>0</th>\n",
       "      <td>Claudio Bravo</td>\n",
       "      <td>Calf Injury</td>\n",
       "      <td>2016-05-02</td>\n",
       "      <td>2016-05-19</td>\n",
       "      <td>Claudio Andrés Bravo Muñoz</td>\n",
       "      <td>Barcelona</td>\n",
       "      <td>4691</td>\n",
       "      <td>217</td>\n",
       "      <td>2</td>\n",
       "      <td>2</td>\n",
       "    </tr>\n",
       "    <tr>\n",
       "      <th>1</th>\n",
       "      <td>Aleix Vidal</td>\n",
       "      <td>Adductor Pain</td>\n",
       "      <td>2016-04-04</td>\n",
       "      <td>2016-04-14</td>\n",
       "      <td>Aleix Vidal Parreu</td>\n",
       "      <td>Barcelona</td>\n",
       "      <td>6400</td>\n",
       "      <td>217</td>\n",
       "      <td>3</td>\n",
       "      <td>5</td>\n",
       "    </tr>\n",
       "    <tr>\n",
       "      <th>2</th>\n",
       "      <td>Jordi Alba</td>\n",
       "      <td>Ankle Problems</td>\n",
       "      <td>2016-03-27</td>\n",
       "      <td>2016-04-02</td>\n",
       "      <td>Jordi Alba Ramos</td>\n",
       "      <td>Barcelona</td>\n",
       "      <td>5211</td>\n",
       "      <td>217</td>\n",
       "      <td>4</td>\n",
       "      <td>6</td>\n",
       "    </tr>\n",
       "    <tr>\n",
       "      <th>3</th>\n",
       "      <td>Ivan Rakitic</td>\n",
       "      <td>Calf Injury</td>\n",
       "      <td>2016-03-20</td>\n",
       "      <td>2016-04-02</td>\n",
       "      <td>Ivan Rakitić</td>\n",
       "      <td>Barcelona</td>\n",
       "      <td>5470</td>\n",
       "      <td>217</td>\n",
       "      <td>2</td>\n",
       "      <td>8</td>\n",
       "    </tr>\n",
       "    <tr>\n",
       "      <th>4</th>\n",
       "      <td>Sergio Busquets</td>\n",
       "      <td>Rest</td>\n",
       "      <td>2016-03-10</td>\n",
       "      <td>2016-03-14</td>\n",
       "      <td>Sergio Busquets i Burgos</td>\n",
       "      <td>Barcelona</td>\n",
       "      <td>5203</td>\n",
       "      <td>217</td>\n",
       "      <td>5</td>\n",
       "      <td>9</td>\n",
       "    </tr>\n",
       "    <tr>\n",
       "      <th>...</th>\n",
       "      <td>...</td>\n",
       "      <td>...</td>\n",
       "      <td>...</td>\n",
       "      <td>...</td>\n",
       "      <td>...</td>\n",
       "      <td>...</td>\n",
       "      <td>...</td>\n",
       "      <td>...</td>\n",
       "      <td>...</td>\n",
       "      <td>...</td>\n",
       "    </tr>\n",
       "    <tr>\n",
       "      <th>191</th>\n",
       "      <td>Emiliano Velázquez</td>\n",
       "      <td>Muscle Injury</td>\n",
       "      <td>2016-03-18</td>\n",
       "      <td>2016-05-08</td>\n",
       "      <td>Emiliano Daniel Velázquez Maldonado</td>\n",
       "      <td>Getafe</td>\n",
       "      <td>17054</td>\n",
       "      <td>216</td>\n",
       "      <td>8</td>\n",
       "      <td>363</td>\n",
       "    </tr>\n",
       "    <tr>\n",
       "      <th>192</th>\n",
       "      <td>Pablo Sarabia</td>\n",
       "      <td>Shoulder Injury</td>\n",
       "      <td>2016-01-29</td>\n",
       "      <td>2016-02-11</td>\n",
       "      <td>Pablo Sarabia García</td>\n",
       "      <td>Getafe</td>\n",
       "      <td>6720</td>\n",
       "      <td>216</td>\n",
       "      <td>70</td>\n",
       "      <td>368</td>\n",
       "    </tr>\n",
       "    <tr>\n",
       "      <th>193</th>\n",
       "      <td>Carlos Vigaray</td>\n",
       "      <td>Calf Injury</td>\n",
       "      <td>2015-11-03</td>\n",
       "      <td>2015-11-17</td>\n",
       "      <td>Carlos Martín Vigaray</td>\n",
       "      <td>Getafe</td>\n",
       "      <td>6856</td>\n",
       "      <td>216</td>\n",
       "      <td>2</td>\n",
       "      <td>370</td>\n",
       "    </tr>\n",
       "    <tr>\n",
       "      <th>194</th>\n",
       "      <td>Álvaro Medrán</td>\n",
       "      <td>Broken Leg</td>\n",
       "      <td>2015-10-09</td>\n",
       "      <td>2016-02-08</td>\n",
       "      <td>Álvaro Medrán Just</td>\n",
       "      <td>Getafe</td>\n",
       "      <td>6736</td>\n",
       "      <td>216</td>\n",
       "      <td>41</td>\n",
       "      <td>371</td>\n",
       "    </tr>\n",
       "    <tr>\n",
       "      <th>195</th>\n",
       "      <td>Juan Cala</td>\n",
       "      <td>Meniscus Injury</td>\n",
       "      <td>2015-09-10</td>\n",
       "      <td>2015-10-18</td>\n",
       "      <td>Juan Torres Ruiz</td>\n",
       "      <td>Getafe</td>\n",
       "      <td>6861</td>\n",
       "      <td>216</td>\n",
       "      <td>59</td>\n",
       "      <td>372</td>\n",
       "    </tr>\n",
       "  </tbody>\n",
       "</table>\n",
       "<p>196 rows × 10 columns</p>\n",
       "</div>"
      ],
      "text/plain": [
       "         Nombre_Jugador      Tipo_Lesion Fecha_incio_lesion Fecha_fin_lesion  \\\n",
       "0         Claudio Bravo      Calf Injury         2016-05-02       2016-05-19   \n",
       "1           Aleix Vidal    Adductor Pain         2016-04-04       2016-04-14   \n",
       "2            Jordi Alba   Ankle Problems         2016-03-27       2016-04-02   \n",
       "3          Ivan Rakitic      Calf Injury         2016-03-20       2016-04-02   \n",
       "4       Sergio Busquets             Rest         2016-03-10       2016-03-14   \n",
       "..                  ...              ...                ...              ...   \n",
       "191  Emiliano Velázquez    Muscle Injury         2016-03-18       2016-05-08   \n",
       "192       Pablo Sarabia  Shoulder Injury         2016-01-29       2016-02-11   \n",
       "193      Carlos Vigaray      Calf Injury         2015-11-03       2015-11-17   \n",
       "194       Álvaro Medrán       Broken Leg         2015-10-09       2016-02-08   \n",
       "195           Juan Cala  Meniscus Injury         2015-09-10       2015-10-18   \n",
       "\n",
       "                 Nombre_Completo_Jugador       Club  playerID  clubID  \\\n",
       "0             Claudio Andrés Bravo Muñoz  Barcelona      4691     217   \n",
       "1                     Aleix Vidal Parreu  Barcelona      6400     217   \n",
       "2                       Jordi Alba Ramos  Barcelona      5211     217   \n",
       "3                           Ivan Rakitić  Barcelona      5470     217   \n",
       "4               Sergio Busquets i Burgos  Barcelona      5203     217   \n",
       "..                                   ...        ...       ...     ...   \n",
       "191  Emiliano Daniel Velázquez Maldonado     Getafe     17054     216   \n",
       "192                 Pablo Sarabia García     Getafe      6720     216   \n",
       "193                Carlos Martín Vigaray     Getafe      6856     216   \n",
       "194                   Álvaro Medrán Just     Getafe      6736     216   \n",
       "195                     Juan Torres Ruiz     Getafe      6861     216   \n",
       "\n",
       "     Tipo_Lesion_ID  ID_Lesion  \n",
       "0                 2          2  \n",
       "1                 3          5  \n",
       "2                 4          6  \n",
       "3                 2          8  \n",
       "4                 5          9  \n",
       "..              ...        ...  \n",
       "191               8        363  \n",
       "192              70        368  \n",
       "193               2        370  \n",
       "194              41        371  \n",
       "195              59        372  \n",
       "\n",
       "[196 rows x 10 columns]"
      ]
     },
     "execution_count": 34,
     "metadata": {},
     "output_type": "execute_result"
    }
   ],
   "source": [
    "df_lesiones"
   ]
  },
  {
   "cell_type": "code",
   "execution_count": 44,
   "id": "34b73079",
   "metadata": {},
   "outputs": [],
   "source": [
    "df_lesiones[\"Tipo_Lesion\"] = df_lesiones[\"Tipo_Lesion_ID\"].map(mapa_lesiones_grupo)\n",
    "df_lesiones[\"Tipo_Lesion_ID\"] = df_lesiones[\"Tipo_Lesion\"].map(mapa_nombre_grupo_a_nuevo_id)\n",
    "df_lesiones[\"Tipo_Lesion\"] = df_lesiones[\"Tipo_Lesion_ID\"].map(mapa_nuevo_id)"
   ]
  },
  {
   "cell_type": "code",
   "execution_count": 45,
   "id": "d51a6c7c",
   "metadata": {},
   "outputs": [
    {
     "data": {
      "text/plain": [
       "array(['Pantorrilla izquierda', 'Aductor largo izquierdo',\n",
       "       'Tibial anterior izquierdo', 'Cabeza trasera',\n",
       "       'Rodilla izquierda delantera', 'Cabeza delantera',\n",
       "       'Erector de la columna derecho', 'Bíceps femoral izquierdo',\n",
       "       'Abdomen izquierdo', 'Recto femoral izquierdo',\n",
       "       'Pantorrilla derecha', 'Deltoide izquierdo delantero',\n",
       "       'Flexor Digitorum Izquierdo', 'Glúteo izquierdo',\n",
       "       'Erector de la columna izquierdo'], dtype=object)"
      ]
     },
     "execution_count": 45,
     "metadata": {},
     "output_type": "execute_result"
    }
   ],
   "source": [
    "df_lesiones[\"Tipo_Lesion\"].unique()"
   ]
  },
  {
   "cell_type": "code",
   "execution_count": 46,
   "id": "378336f5",
   "metadata": {},
   "outputs": [
    {
     "name": "stdout",
     "output_type": "stream",
     "text": [
      "('PostgreSQL 16.4, compiled by Visual C++ build 1940, 64-bit',)\n"
     ]
    }
   ],
   "source": [
    "load_dotenv()\n",
    "dbname = os.getenv(\"dbname\")\n",
    "user = os.getenv(\"user\")\n",
    "password = os.getenv(\"password\")\n",
    "(conn,cur) = conexion_postgres(dbname, user, password)\n",
    "insertar_datos_automatico(df_lesiones,\"lesiones\", cur, conn)\n",
    "insertar_datos_automatico(tabla_indice_lesiones,\"Lesiones_indice\", cur, conn)"
   ]
  },
  {
   "cell_type": "code",
   "execution_count": 47,
   "id": "2f2c47c3",
   "metadata": {},
   "outputs": [],
   "source": [
    "df_lesiones.to_csv(\"data/Tabla_Lesiones.csv\", index=False)\n",
    "tabla_indice_lesiones.to_csv(\"data/Tabla_Lesiones_indice.csv\", index=False)"
   ]
  }
 ],
 "metadata": {
  "kernelspec": {
   "display_name": "Python 3",
   "language": "python",
   "name": "python3"
  },
  "language_info": {
   "codemirror_mode": {
    "name": "ipython",
    "version": 3
   },
   "file_extension": ".py",
   "mimetype": "text/x-python",
   "name": "python",
   "nbconvert_exporter": "python",
   "pygments_lexer": "ipython3",
   "version": "3.12.5"
  }
 },
 "nbformat": 4,
 "nbformat_minor": 5
}
