{
 "cells": [
  {
   "cell_type": "code",
   "execution_count": 1,
   "id": "5c02cb29",
   "metadata": {},
   "outputs": [],
   "source": [
    "import pandas as pd\n",
    "import numpy as np\n",
    "import os\n",
    "from dotenv import load_dotenv\n",
    "import requests\n",
    "from src import insertar_datos_automatico, conexion_postgres\n",
    "pd.set_option('display.max_columns', None)\n",
    "import psycopg2"
   ]
  },
  {
   "cell_type": "code",
   "execution_count": 2,
   "id": "b90d09a3",
   "metadata": {},
   "outputs": [],
   "source": [
    "df_partidos = pd.read_csv(\"data/Team_Stats_Normalizado.csv\")\n",
    "df_completo = pd.read_csv(\"data/jugadores_info_normalizado.csv\")\n",
    "df_clubs = df_completo[[\"club\", \"clubID\"]].drop_duplicates().dropna().reset_index().drop(columns = [\"index\"])"
   ]
  },
  {
   "cell_type": "code",
   "execution_count": 3,
   "id": "129cf11d",
   "metadata": {},
   "outputs": [],
   "source": [
    "df_partidos.drop(columns = [\"home_team\", \"away_team\"], inplace = True)"
   ]
  },
  {
   "cell_type": "code",
   "execution_count": 4,
   "id": "f1512596",
   "metadata": {},
   "outputs": [],
   "source": [
    "diccionario_clubs = dict(zip(df_clubs[\"club\"], df_clubs[\"clubID\"]))"
   ]
  },
  {
   "cell_type": "code",
   "execution_count": 5,
   "id": "e93c6440",
   "metadata": {},
   "outputs": [],
   "source": [
    "df_partidos[\"id_club_local\"] = df_partidos[\"Local\"].map(diccionario_clubs)\n",
    "df_partidos[\"id_club_visitante\"] = df_partidos[\"Visitante\"].map(diccionario_clubs)\n",
    "df_partidos[\"id_club_stats\"] = df_partidos[\"Stats Equipo\"].map(diccionario_clubs)"
   ]
  },
  {
   "cell_type": "code",
   "execution_count": 6,
   "id": "1844498f",
   "metadata": {},
   "outputs": [],
   "source": [
    "df_partidos.rename(columns = {'Seleccionar esquema': 'Esquema'}, inplace = True)"
   ]
  },
  {
   "cell_type": "code",
   "execution_count": 7,
   "id": "cdcc6f38",
   "metadata": {},
   "outputs": [],
   "source": [
    "df_partidos.columns = df_partidos.columns.str.replace(' ', '_')"
   ]
  },
  {
   "cell_type": "code",
   "execution_count": 8,
   "id": "022c1847",
   "metadata": {},
   "outputs": [],
   "source": [
    "df_prueba = df_partidos.copy()"
   ]
  },
  {
   "cell_type": "code",
   "execution_count": 9,
   "id": "4a6d95a8",
   "metadata": {},
   "outputs": [],
   "source": [
    "# Creamos una clave única por partido\n",
    "df_prueba['match_id'] = df_prueba['match_id'].astype(int)  # asegúrate de que sea tipo entero si no lo está\n",
    "# Separar columnas fijas (que no queremos duplicar) de métricas\n",
    "columnas_clave = ['Fecha', 'Partido', 'Resultado', 'match_id', 'Local', 'Visitante','Competición', 'Duración', 'id_club_local',  'id_club_visitante', 'id_club_stats']\n",
    "columnas_metricas = df_prueba.columns.difference(columnas_clave).tolist()\n",
    "\n",
    "# Pivotar el DataFrame para tener columnas por equipo\n",
    "df_local = df_prueba[df_partidos['Local'] == df_prueba['Stats_Equipo']].copy()\n",
    "df_visitante = df_prueba[df_partidos['Visitante'] == df_prueba['Stats_Equipo']].copy()\n",
    "\n",
    "# Renombramos columnas\n",
    "df_local = df_local.set_index('match_id')\n",
    "df_local.columns = [col + '_local' if col not in columnas_clave else col for col in df_local.columns]\n",
    "\n",
    "df_visitante = df_visitante.set_index('match_id')\n",
    "df_visitante.columns = [col + '_visitante' if col not in columnas_clave else col for col in df_visitante.columns]\n",
    "\n",
    "# Unimos los dos DataFrames\n",
    "df_final = df_local.join(df_visitante,lsuffix='_L', rsuffix='_V', how='inner').reset_index()"
   ]
  },
  {
   "cell_type": "code",
   "execution_count": 10,
   "id": "a053a4b8",
   "metadata": {},
   "outputs": [],
   "source": [
    "df_final.drop(columns=([ 'Stats_Equipo_local',\n",
    " 'id_club_stats_L',\n",
    " 'Fecha_V',\n",
    " 'Partido_V',\n",
    " 'Resultado_V',\n",
    " 'Local_V',\n",
    " 'Visitante_V',\n",
    " 'Competición_V',\n",
    " 'Duración_V',\n",
    " 'Tiros_libres_con_remate.1_local',\n",
    " 'Tiros_libres_con_remate.1_visitante',\n",
    " 'Stats_Equipo_visitante',\n",
    " 'id_club_stats_V',\n",
    " 'id_club_local_V',\n",
    " 'id_club_visitante_V',\n",
    " 'Jornada_local']), inplace=True)"
   ]
  },
  {
   "cell_type": "code",
   "execution_count": 11,
   "id": "31c2ed6d",
   "metadata": {},
   "outputs": [],
   "source": [
    "df_final.rename(columns={'Fecha_L':'Fecha',\n",
    " 'Partido_L':'Partido',\n",
    " 'Resultado_L': 'Resultado',\n",
    " 'Local_L':'Local',\n",
    " 'Visitante_L':'Visitante',\n",
    " 'Competición_L':'Competición',\n",
    " 'Duración_L':'Duración',\n",
    " 'Jornada_visitante':'Jornada',\n",
    " 'id_club_local_L' :'id_club_local',\n",
    " 'id_club_visitante_L' :'id_club_visitante',\n",
    "}, inplace=True)"
   ]
  },
  {
   "cell_type": "code",
   "execution_count": 12,
   "id": "1fef2346",
   "metadata": {},
   "outputs": [],
   "source": [
    "df_final.columns = df_final.columns.str.replace('%', 'porcentaje')\n",
    "df_final.columns = df_final.columns.str.replace(',', '')"
   ]
  },
  {
   "cell_type": "code",
   "execution_count": 13,
   "id": "b5085844",
   "metadata": {},
   "outputs": [
    {
     "data": {
      "text/plain": [
       "193"
      ]
     },
     "execution_count": 13,
     "metadata": {},
     "output_type": "execute_result"
    }
   ],
   "source": [
    "len(df_final.columns.tolist())"
   ]
  },
  {
   "cell_type": "code",
   "execution_count": 14,
   "id": "5dc12cac",
   "metadata": {},
   "outputs": [
    {
     "data": {
      "text/plain": [
       "0       1\n",
       "1       1\n",
       "2       1\n",
       "3       1\n",
       "4       1\n",
       "       ..\n",
       "375    38\n",
       "376    38\n",
       "377    38\n",
       "378    38\n",
       "379    38\n",
       "Name: Jornada, Length: 380, dtype: int64"
      ]
     },
     "execution_count": 14,
     "metadata": {},
     "output_type": "execute_result"
    }
   ],
   "source": [
    "df_final[\"Jornada\"]"
   ]
  },
  {
   "cell_type": "code",
   "execution_count": 18,
   "id": "95c0295a",
   "metadata": {},
   "outputs": [
    {
     "name": "stdout",
     "output_type": "stream",
     "text": [
      "('PostgreSQL 16.4, compiled by Visual C++ build 1940, 64-bit',)\n"
     ]
    }
   ],
   "source": [
    "load_dotenv()\n",
    "dbname = os.getenv(\"dbname\")\n",
    "user = os.getenv(\"user\")\n",
    "password = os.getenv(\"password\")\n",
    "(conn,cur) = conexion_postgres(dbname, user, password)\n",
    "insertar_datos_automatico(df_final,\"partidos\", cur, conn)"
   ]
  },
  {
   "cell_type": "code",
   "execution_count": 19,
   "id": "7159cb5d",
   "metadata": {},
   "outputs": [],
   "source": [
    "df_final.to_csv(\"data/Tabla_Partidos.csv\", index=False)"
   ]
  }
 ],
 "metadata": {
  "kernelspec": {
   "display_name": "venv",
   "language": "python",
   "name": "python3"
  },
  "language_info": {
   "codemirror_mode": {
    "name": "ipython",
    "version": 3
   },
   "file_extension": ".py",
   "mimetype": "text/x-python",
   "name": "python",
   "nbconvert_exporter": "python",
   "pygments_lexer": "ipython3",
   "version": "3.12.5"
  }
 },
 "nbformat": 4,
 "nbformat_minor": 5
}
