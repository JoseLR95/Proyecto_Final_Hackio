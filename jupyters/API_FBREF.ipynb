{
 "cells": [
  {
   "cell_type": "code",
   "execution_count": 1,
   "id": "80ce3d89",
   "metadata": {},
   "outputs": [],
   "source": [
    "import pandas as pd\n",
    "import numpy as np\n",
    "import requests\n",
    "from bs4 import BeautifulSoup\n",
    "from selenium import webdriver\n",
    "from selenium.webdriver.chrome.service import Service\n",
    "from selenium.webdriver.chrome.options import Options\n",
    "from webdriver_manager.chrome import ChromeDriverManager\n",
    "from selenium.webdriver.common.by import By\n",
    "from selenium.webdriver.common.keys import Keys\n",
    "from selenium.webdriver.support.ui import WebDriverWait\n",
    "from selenium.webdriver.support import expected_conditions as EC\n",
    "from selenium.common.exceptions import TimeoutException, NoSuchElementException\n",
    "import time"
   ]
  },
  {
   "cell_type": "code",
   "execution_count": 2,
   "id": "163bf890",
   "metadata": {},
   "outputs": [],
   "source": [
    "lista_ligas = {\"2015-2016\": \"https://fbref.com/es/comps/12/2015-2016/Estadisticas-2015-2016-La-Liga\"}"
   ]
  },
  {
   "cell_type": "code",
   "execution_count": 3,
   "id": "b57e5dcc",
   "metadata": {},
   "outputs": [],
   "source": [
    "lista_equipos = {}\n",
    "for a, x in lista_ligas.items():\n",
    "    options = Options()\n",
    "    options.add_argument(\"--start-maximized\")\n",
    "    driver = webdriver.Chrome(service=Service(ChromeDriverManager().install()), options=options)\n",
    "    url = x\n",
    "    driver.get(url)\n",
    "    driver.implicitly_wait(10)\n",
    "\n",
    "    # Buscar todos los enlaces de equipos\n",
    "    tabla = driver.find_element(By.CSS_SELECTOR, \"table.stats_table.sortable.min_width.force_mobilize.now_sortable\")\n",
    "    enlaces = tabla.find_elements(By.CSS_SELECTOR, 'a[href*=\"/es/equipos/\"]')\n",
    "\n",
    "    equipos = []\n",
    "\n",
    "    for enlace in enlaces:\n",
    "        href = enlace.get_attribute(\"href\")\n",
    "        texto = enlace.text.strip()\n",
    "        \n",
    "        partes = href.split(\"/\")\n",
    "\n",
    "        try:\n",
    "            idx = partes.index(\"equipos\")\n",
    "            id_equipo = partes[idx + 1]  # El ID está justo después de \"equipos\"\n",
    "            equipos.append(id_equipo)\n",
    "        except (ValueError, IndexError):\n",
    "            continue  # Si no encuentra \"equipos\" o el ID está mal formado\n",
    "    driver.quit()\n",
    "    time.sleep(5)\n",
    "    lista_equipos[a] = equipos\n"
   ]
  },
  {
   "cell_type": "code",
   "execution_count": 4,
   "id": "252c4c19",
   "metadata": {},
   "outputs": [],
   "source": [
    "response = requests.post('https://fbrapi.com/generate_api_key')\n",
    "api_key = response.json()['api_key']"
   ]
  },
  {
   "cell_type": "code",
   "execution_count": 8,
   "id": "239cdd16",
   "metadata": {},
   "outputs": [
    {
     "name": "stdout",
     "output_type": "stream",
     "text": [
      "equipo ['206d90db', '53a2f082', 'db3b9613', '2a8183b3', '2b390eca', 'f25da7fb', 'ad2be733', '1c896955', 'e31d1cd9', 'fc536746', '0049d422', 'dcc91a7b', 'a8661628', 'bea5c710', '2a60ed82', 'a0435291', 'bb9efd50', '98e8af82', '7848bd64', '9800b6a1'], año 2015-2016, 200\n",
      "{'2015-2016': {'team_roster': {'data': [{'player': 'Luis Suárez', 'player_id': 'a6154613', 'nationality': 'URU', 'position': 'FW', 'age': 28, 'mp': 35, 'starts': 35}, {'player': 'Neymar', 'player_id': '69384e5d', 'nationality': 'BRA', 'position': 'FW,MF', 'age': 23, 'mp': 34, 'starts': 34}, {'player': 'Sergio Busquets', 'player_id': '5ab0ea87', 'nationality': 'ESP', 'position': 'MF', 'age': 27, 'mp': 35, 'starts': 34}, {'player': 'Claudio Bravo', 'player_id': '10072610', 'nationality': 'CHI', 'position': 'GK', 'age': 32, 'mp': 32, 'starts': 32}, {'player': 'Lionel Messi', 'player_id': 'd70ce98e', 'nationality': 'ARG', 'position': 'FW,MF', 'age': 28, 'mp': 33, 'starts': 31}, {'player': 'Javier Mascherano', 'player_id': '5070881b', 'nationality': 'ARG', 'position': 'DF,MF', 'age': 31, 'mp': 32, 'starts': 31}, {'player': 'Gerard Piqué', 'player_id': 'adfc9123', 'nationality': 'ESP', 'position': 'DF', 'age': 28, 'mp': 30, 'starts': 30}, {'player': 'Ivan Rakitić', 'player_id': '89f951b5', 'nationality': 'CRO', 'position': 'MF', 'age': 27, 'mp': 36, 'starts': 30}, {'player': 'Jordi Alba', 'player_id': '4601e194', 'nationality': 'ESP', 'position': 'DF,MF', 'age': 26, 'mp': 31, 'starts': 29}, {'player': 'Andrés Iniesta', 'player_id': 'cfd65a29', 'nationality': 'ESP', 'position': 'MF', 'age': 31, 'mp': 28, 'starts': 25}, {'player': 'Dani Alves', 'player_id': 'c9e99e49', 'nationality': 'BRA', 'position': 'DF,MF', 'age': 32, 'mp': 29, 'starts': 24}, {'player': 'Sergi Roberto', 'player_id': '335fa267', 'nationality': 'ESP', 'position': 'DF,MF', 'age': 23, 'mp': 31, 'starts': 21}, {'player': 'Jérémy Mathieu', 'player_id': '5b887c7a', 'nationality': 'FRA', 'position': 'DF', 'age': 31, 'mp': 21, 'starts': 12}, {'player': 'Arda Turan', 'player_id': '017ab4d4', 'nationality': 'TUR', 'position': 'FW,MF', 'age': 28, 'mp': 18, 'starts': 9}, {'player': 'Munir El Haddadi', 'player_id': '8696bc90', 'nationality': 'MAR', 'position': 'FW,MF', 'age': 19, 'mp': 15, 'starts': 8}, {'player': 'Aleix Vidal', 'player_id': '04965583', 'nationality': 'ESP', 'position': 'DF,MF', 'age': 25, 'mp': 9, 'starts': 6}, {'player': 'Marc-André ter Stegen', 'player_id': '6f51e382', 'nationality': 'GER', 'position': 'GK', 'age': 23, 'mp': 7, 'starts': 6}, {'player': 'Thomas Vermaelen', 'player_id': 'd0d79694', 'nationality': 'BEL', 'position': 'DF', 'age': 29, 'mp': 10, 'starts': 6}, {'player': 'Marc Bartra', 'player_id': 'b742cc0d', 'nationality': 'ESP', 'position': 'DF', 'age': 24, 'mp': 13, 'starts': 4}, {'player': 'Adriano', 'player_id': '9d8586c4', 'nationality': 'BRA', 'position': 'DF,MF', 'age': 30, 'mp': 8, 'starts': 4}, {'player': 'Sandro Ramírez', 'player_id': '833fb62e', 'nationality': 'ESP', 'position': 'FW,MF', 'age': 20, 'mp': 10, 'starts': 4}, {'player': 'Rafinha', 'player_id': '0c2ac3cb', 'nationality': 'BRA', 'position': 'MF', 'age': 22, 'mp': 6, 'starts': 3}, {'player': 'Gerard Gumbau', 'player_id': 'ac454a4f', 'nationality': 'ESP', 'position': 'MF', 'age': 20, 'mp': 3, 'starts': 0}, {'player': 'Sergi Samper', 'player_id': '6a7586f4', 'nationality': 'ESP', 'position': 'MF', 'age': 20, 'mp': 1, 'starts': 0}, {'player': 'Douglas', 'player_id': 'ee0da7af', 'nationality': 'BRA', 'position': 'DF', 'age': 24, 'mp': 1, 'starts': 0}, {'player': 'Juan Cámara', 'player_id': 'f9656e16', 'nationality': 'ESP', 'position': 'MF', 'age': 21, 'mp': 0, 'starts': 0}, {'player': 'Jordi Masip', 'player_id': '8fae77ea', 'nationality': 'ESP', 'position': 'GK', 'age': 26, 'mp': 0, 'starts': 0}]}, 'team_schedule': {'data': [{'date': '2015-08-11', 'time': '22:45', 'match_id': '22602159', 'league_name': 'Super Cup', 'league_id': 122, 'opponent': 'Sevilla', 'opponent_id': 'ad2be733', 'home_away': 'Home', 'result': 'W', 'gf': 5, 'ga': 4, 'attendance': '51,940', 'captain': 'Andrés Iniesta', 'formation': '4-3-3', 'referee': 'William Collum'}, {'date': '2015-08-14', 'time': '22:00', 'match_id': 'a24f5825', 'league_name': 'Supercopa de España', 'league_id': 646, 'opponent': 'Athletic Club', 'opponent_id': '2b390eca', 'home_away': 'Away', 'result': 'L', 'gf': 0, 'ga': 4, 'attendance': '40,000', 'captain': '', 'formation': '', 'referee': 'José González'}, {'date': '2015-08-17', 'time': '22:00', 'match_id': '234e4366', 'league_name': 'Supercopa de España', 'league_id': 646, 'opponent': 'Athletic Club', 'opponent_id': '2b390eca', 'home_away': 'Home', 'result': 'D', 'gf': 1, 'ga': 1, 'attendance': '88,834', 'captain': '', 'formation': '', 'referee': 'Carlos Velasco'}, {'date': '2015-08-23', 'time': '18:30', 'match_id': 'ee599dc6', 'league_name': 'La Liga', 'league_id': 12, 'opponent': 'Athletic Club', 'opponent_id': '2b390eca', 'home_away': 'Away', 'result': 'W', 'gf': 1, 'ga': 0, 'attendance': '44,737', 'captain': 'Dani Alves', 'formation': '4-3-3', 'referee': 'Carlos del Cerro'}, {'date': '2015-08-29', 'time': '20:30', 'match_id': 'd21d7344', 'league_name': 'La Liga', 'league_id': 12, 'opponent': 'Málaga', 'opponent_id': '1c896955', 'home_away': 'Home', 'result': 'W', 'gf': 1, 'ga': 0, 'attendance': '80,812', 'captain': 'Andrés Iniesta', 'formation': '4-3-3', 'referee': 'Santiago Jaime'}, {'date': '2015-09-12', 'time': '20:30', 'match_id': '187a5503', 'league_name': 'La Liga', 'league_id': 12, 'opponent': 'Atlético Madrid', 'opponent_id': 'db3b9613', 'home_away': 'Away', 'result': 'W', 'gf': 2, 'ga': 1, 'attendance': '53,491', 'captain': 'Andrés Iniesta', 'formation': '4-3-3', 'referee': 'Antonio Matéu Lahoz'}, {'date': '2015-09-16', 'time': '20:45', 'match_id': 'b5c3ab35', 'league_name': 'Champions Lg', 'league_id': 8, 'opponent': 'Roma', 'opponent_id': 'cf74a709', 'home_away': 'Away', 'result': 'D', 'gf': 1, 'ga': 1, 'attendance': '57,836', 'captain': 'Andrés Iniesta', 'formation': '4-3-3', 'referee': 'Björn Kuipers'}, {'date': '2015-09-20', 'time': '20:30', 'match_id': 'c6a86c14', 'league_name': 'La Liga', 'league_id': 12, 'opponent': 'Levante', 'opponent_id': '9800b6a1', 'home_away': 'Home', 'result': 'W', 'gf': 4, 'ga': 1, 'attendance': '76,013', 'captain': 'Lionel Messi', 'formation': '4-2-3-1', 'referee': 'David Fernández'}, {'date': '2015-09-23', 'time': '20:00', 'match_id': 'de53479f', 'league_name': 'La Liga', 'league_id': 12, 'opponent': 'Celta Vigo', 'opponent_id': 'f25da7fb', 'home_away': 'Away', 'result': 'L', 'gf': 1, 'ga': 4, 'attendance': '23,311', 'captain': 'Andrés Iniesta', 'formation': '4-3-3', 'referee': 'Alberto Undiano'}, {'date': '2015-09-26', 'time': '16:00', 'match_id': '7f0b0830', 'league_name': 'La Liga', 'league_id': 12, 'opponent': 'Las Palmas', 'opponent_id': '0049d422', 'home_away': 'Home', 'result': 'W', 'gf': 2, 'ga': 1, 'attendance': '74,196', 'captain': 'Lionel Messi', 'formation': '4-3-3', 'referee': 'Ricardo de Burgos'}, {'date': '2015-09-29', 'time': '20:45', 'match_id': '2caa45b8', 'league_name': 'Champions Lg', 'league_id': 8, 'opponent': 'Leverkusen', 'opponent_id': 'c7a9f859', 'home_away': 'Home', 'result': 'W', 'gf': 2, 'ga': 1, 'attendance': '68,694', 'captain': 'Andrés Iniesta', 'formation': '4-3-3', 'referee': 'Martin Atkinson'}, {'date': '2015-10-03', 'time': '16:00', 'match_id': '54560f72', 'league_name': 'La Liga', 'league_id': 12, 'opponent': 'Sevilla', 'opponent_id': 'ad2be733', 'home_away': 'Away', 'result': 'L', 'gf': 1, 'ga': 2, 'attendance': '39,374', 'captain': 'Sergio Busquets', 'formation': '4-3-3', 'referee': 'Jesús Gil'}, {'date': '2015-10-17', 'time': '20:30', 'match_id': '18ed0e10', 'league_name': 'La Liga', 'league_id': 12, 'opponent': 'Rayo Vallecano', 'opponent_id': '98e8af82', 'home_away': 'Home', 'result': 'W', 'gf': 5, 'ga': 2, 'attendance': '75,472', 'captain': 'Sergio Busquets', 'formation': '4-3-3', 'referee': 'Pedro Pérez'}, {'date': '2015-10-20', 'time': '21:45', 'match_id': '3c4e1bc7', 'league_name': 'Champions Lg', 'league_id': 8, 'opponent': 'BATE Borisov', 'opponent_id': 'b983b638', 'home_away': 'Away', 'result': 'W', 'gf': 2, 'ga': 0, 'attendance': '13,074', 'captain': 'Sergio Busquets', 'formation': '4-3-3', 'referee': 'Jorge de Sousa'}, {'date': '2015-10-25', 'time': '18:15', 'match_id': '07ee1d18', 'league_name': 'La Liga', 'league_id': 12, 'opponent': 'Eibar', 'opponent_id': 'bea5c710', 'home_away': 'Home', 'result': 'W', 'gf': 3, 'ga': 1, 'attendance': '78,228', 'captain': 'Sergio Busquets', 'formation': '4-3-3', 'referee': 'Carlos del Cerro'}, {'date': '2015-10-28', 'time': '20:30', 'match_id': 'a4fbf25f', 'league_name': 'Copa del Rey', 'league_id': 569, 'opponent': 'Villanovense', 'opponent_id': '6858a1d3', 'home_away': 'Away', 'result': 'D', 'gf': 0, 'ga': 0, 'attendance': '8,000', 'captain': '', 'formation': '', 'referee': 'Eduardo Prieto'}, {'date': '2015-10-31', 'time': '20:30', 'match_id': '1feb6608', 'league_name': 'La Liga', 'league_id': 12, 'opponent': 'Getafe', 'opponent_id': '7848bd64', 'home_away': 'Away', 'result': 'W', 'gf': 2, 'ga': 0, 'attendance': '10,089', 'captain': 'Claudio Bravo', 'formation': '4-3-3', 'referee': 'Juan Martínez'}, {'date': '2015-11-04', 'time': '20:45', 'match_id': '077c7684', 'league_name': 'Champions Lg', 'league_id': 8, 'opponent': 'BATE Borisov', 'opponent_id': 'b983b638', 'home_away': 'Home', 'result': 'W', 'gf': 3, 'ga': 0, 'attendance': '68,502', 'captain': 'Andrés Iniesta', 'formation': '4-3-3', 'referee': 'István Vad II'}, {'date': '2015-11-08', 'time': '16:00', 'match_id': '9c02c4d8', 'league_name': 'La Liga', 'league_id': 12, 'opponent': 'Villarreal', 'opponent_id': '2a8183b3', 'home_away': 'Home', 'result': 'W', 'gf': 3, 'ga': 0, 'attendance': '74,109', 'captain': 'Andrés Iniesta', 'formation': '4-3-3', 'referee': 'Carlos Clos Gómez'}, {'date': '2015-11-21', 'time': '18:15', 'match_id': 'f23ea7cf', 'league_name': 'La Liga', 'league_id': 12, 'opponent': 'Real Madrid', 'opponent_id': '53a2f082', 'home_away': 'Away', 'result': 'W', 'gf': 4, 'ga': 0, 'attendance': '80,500', 'captain': 'Andrés Iniesta', 'formation': '4-3-3', 'referee': 'David Fernández'}, {'date': '2015-11-24', 'time': '20:45', 'match_id': '0487b8d7', 'league_name': 'Champions Lg', 'league_id': 8, 'opponent': 'Roma', 'opponent_id': 'cf74a709', 'home_away': 'Home', 'result': 'W', 'gf': 6, 'ga': 1, 'attendance': '71,433', 'captain': 'Lionel Messi', 'formation': '4-3-3', 'referee': 'Cüneyt Çakιr'}, {'date': '2015-11-28', 'time': '16:00', 'match_id': 'acdb2ad4', 'league_name': 'La Liga', 'league_id': 12, 'opponent': 'Real Sociedad', 'opponent_id': 'e31d1cd9', 'home_away': 'Home', 'result': 'W', 'gf': 4, 'ga': 0, 'attendance': '74,020', 'captain': 'Andrés Iniesta', 'formation': '4-3-3', 'referee': 'Ignacio Iglesias'}, {'date': '2015-12-02', 'time': '20:00', 'match_id': 'b0d561e3', 'league_name': 'Copa del Rey', 'league_id': 569, 'opponent': 'Villanovense', 'opponent_id': '6858a1d3', 'home_away': 'Home', 'result': 'W', 'gf': 6, 'ga': 1, 'attendance': '67,703', 'captain': '', 'formation': '', 'referee': 'Pedro Pérez'}, {'date': '2015-12-05', 'time': '20:30', 'match_id': 'f5158c36', 'league_name': 'La Liga', 'league_id': 12, 'opponent': 'Valencia', 'opponent_id': 'dcc91a7b', 'home_away': 'Away', 'result': 'D', 'gf': 1, 'ga': 1, 'attendance': '46,799', 'captain': 'Andrés Iniesta', 'formation': '4-3-3', 'referee': 'Santiago Jaime'}, {'date': '2015-12-09', 'time': '20:45', 'match_id': 'd2c241e8', 'league_name': 'Champions Lg', 'league_id': 8, 'opponent': 'Leverkusen', 'opponent_id': 'c7a9f859', 'home_away': 'Away', 'result': 'D', 'gf': 1, 'ga': 1, 'attendance': '29,412', 'captain': 'Lionel Messi', 'formation': '4-3-3', 'referee': 'Mark Clattenburg'}, {'date': '2015-12-12', 'time': '16:00', 'match_id': '0f3ae9c1', 'league_name': 'La Liga', 'league_id': 12, 'opponent': 'La Coruña', 'opponent_id': '2a60ed82', 'home_away': 'Home', 'result': 'D', 'gf': 2, 'ga': 2, 'attendance': '67,194', 'captain': 'Andrés Iniesta', 'formation': '4-3-3', 'referee': 'José Sánchez'}, {'date': '2015-12-30', 'time': '20:30', 'match_id': '04b8dac0', 'league_name': 'La Liga', 'league_id': 12, 'opponent': 'Betis', 'opponent_id': 'fc536746', 'home_away': 'Home', 'result': 'W', 'gf': 4, 'ga': 0, 'attendance': '83,630', 'captain': 'Lionel Messi', 'formation': '4-3-3', 'referee': 'Iñaki Bikandi'}, {'date': '2016-01-02', 'time': '16:00', 'match_id': 'c2fa507e', 'league_name': 'La Liga', 'league_id': 12, 'opponent': 'Espanyol', 'opponent_id': 'a8661628', 'home_away': 'Away', 'result': 'D', 'gf': 0, 'ga': 0, 'attendance': '28,975', 'captain': 'Andrés Iniesta', 'formation': '4-3-3', 'referee': 'José González'}, {'date': '2016-01-06', 'time': '20:30', 'match_id': 'd940d2d4', 'league_name': 'Copa del Rey', 'league_id': 569, 'opponent': 'Espanyol', 'opponent_id': 'a8661628', 'home_away': 'Home', 'result': 'W', 'gf': 4, 'ga': 1, 'attendance': '76,667', 'captain': '', 'formation': '', 'referee': 'Juan Martínez'}, {'date': '2016-01-09', 'time': '16:00', 'match_id': '2bdd127a', 'league_name': 'La Liga', 'league_id': 12, 'opponent': 'Granada', 'opponent_id': 'a0435291', 'home_away': 'Home', 'result': 'W', 'gf': 4, 'ga': 0, 'attendance': '70,720', 'captain': 'Lionel Messi', 'formation': '4-3-3', 'referee': 'Carlos Velasco'}, {'date': '2016-01-13', 'time': '21:00', 'match_id': 'a7fda58d', 'league_name': 'Copa del Rey', 'league_id': 569, 'opponent': 'Espanyol', 'opponent_id': 'a8661628', 'home_away': 'Away', 'result': 'W', 'gf': 2, 'ga': 0, 'attendance': '20,843', 'captain': '', 'formation': '', 'referee': 'David Fernández'}, {'date': '2016-01-17', 'time': '20:30', 'match_id': 'b5ec0e74', 'league_name': 'La Liga', 'league_id': 12, 'opponent': 'Athletic Club', 'opponent_id': '2b390eca', 'home_away': 'Home', 'result': 'W', 'gf': 6, 'ga': 0, 'attendance': '68,019', 'captain': 'Andrés Iniesta', 'formation': '4-3-3', 'referee': 'Antonio Matéu Lahoz'}, {'date': '2016-01-20', 'time': '21:00', 'match_id': '42709ce8', 'league_name': 'Copa del Rey', 'league_id': 569, 'opponent': 'Athletic Club', 'opponent_id': '2b390eca', 'home_away': 'Away', 'result': 'W', 'gf': 2, 'ga': 1, 'attendance': '53,000', 'captain': '', 'formation': '', 'referee': 'José González'}, {'date': '2016-01-23', 'time': '16:00', 'match_id': 'a57605a4', 'league_name': 'La Liga', 'league_id': 12, 'opponent': 'Málaga', 'opponent_id': '1c896955', 'home_away': 'Away', 'result': 'W', 'gf': 2, 'ga': 1, 'attendance': '27,559', 'captain': 'Andrés Iniesta', 'formation': '4-3-3', 'referee': 'Carlos Clos Gómez'}, {'date': '2016-01-27', 'time': '21:30', 'match_id': '44c9547c', 'league_name': 'Copa del Rey', 'league_id': 569, 'opponent': 'Athletic Club', 'opponent_id': '2b390eca', 'home_away': 'Home', 'result': 'W', 'gf': 3, 'ga': 1, 'attendance': '63,405', 'captain': '', 'formation': '', 'referee': 'Alejandro Hernández'}, {'date': '2016-01-30', 'time': '16:00', 'match_id': '6b2e6e56', 'league_name': 'La Liga', 'league_id': 12, 'opponent': 'Atlético Madrid', 'opponent_id': 'db3b9613', 'home_away': 'Home', 'result': 'W', 'gf': 2, 'ga': 1, 'attendance': '94,990', 'captain': 'Andrés Iniesta', 'formation': '4-3-3', 'referee': 'Alberto Undiano'}, {'date': '2016-02-03', 'time': '21:00', 'match_id': '17bd38cd', 'league_name': 'Copa del Rey', 'league_id': 569, 'opponent': 'Valencia', 'opponent_id': 'dcc91a7b', 'home_away': 'Home', 'result': 'W', 'gf': 7, 'ga': 0, 'attendance': '60,635', 'captain': '', 'formation': '', 'referee': 'Ignacio Iglesias'}, {'date': '2016-02-07', 'time': '12:00', 'match_id': '13a80787', 'league_name': 'La Liga', 'league_id': 12, 'opponent': 'Levante', 'opponent_id': '9800b6a1', 'home_away': 'Away', 'result': 'W', 'gf': 2, 'ga': 0, 'attendance': '22,638', 'captain': 'Andrés Iniesta', 'formation': '4-3-3', 'referee': 'Pedro Pérez'}, {'date': '2016-02-10', 'time': '21:00', 'match_id': '6ca9c978', 'league_name': 'Copa del Rey', 'league_id': 569, 'opponent': 'Valencia', 'opponent_id': 'dcc91a7b', 'home_away': 'Away', 'result': 'D', 'gf': 1, 'ga': 1, 'attendance': '16,296', 'captain': '', 'formation': '', 'referee': 'Carlos Velasco'}, {'date': '2016-02-14', 'time': '20:30', 'match_id': 'fcb5e5ac', 'league_name': 'La Liga', 'league_id': 12, 'opponent': 'Celta Vigo', 'opponent_id': 'f25da7fb', 'home_away': 'Home', 'result': 'W', 'gf': 6, 'ga': 1, 'attendance': '72,580', 'captain': 'Andrés Iniesta', 'formation': '4-3-3', 'referee': 'Alejandro Hernández'}, {'date': '2016-02-17', 'time': '18:30', 'match_id': '5ea1033c', 'league_name': 'La Liga', 'league_id': 12, 'opponent': 'Sporting Gijón', 'opponent_id': 'bb9efd50', 'home_away': 'Away', 'result': 'W', 'gf': 3, 'ga': 1, 'attendance': '28,140', 'captain': 'Lionel Messi', 'formation': '4-3-3', 'referee': 'Ricardo de Burgos'}, {'date': '2016-02-20', 'time': '15:00', 'match_id': 'ce1a14a8', 'league_name': 'La Liga', 'league_id': 12, 'opponent': 'Las Palmas', 'opponent_id': '0049d422', 'home_away': 'Away', 'result': 'W', 'gf': 2, 'ga': 1, 'attendance': '26,951', 'captain': 'Andrés Iniesta', 'formation': '4-3-3', 'referee': 'Carlos del Cerro'}, {'date': '2016-02-23', 'time': '19:45', 'match_id': 'b045230d', 'league_name': 'Champions Lg', 'league_id': 8, 'opponent': 'Arsenal', 'opponent_id': '18bb7c10', 'home_away': 'Away', 'result': 'W', 'gf': 2, 'ga': 0, 'attendance': '59,889', 'captain': 'Andrés Iniesta', 'formation': '4-3-3', 'referee': 'Cüneyt Çakιr'}, {'date': '2016-02-28', 'time': '20:30', 'match_id': 'ad5f6823', 'league_name': 'La Liga', 'league_id': 12, 'opponent': 'Sevilla', 'opponent_id': 'ad2be733', 'home_away': 'Home', 'result': 'W', 'gf': 2, 'ga': 1, 'attendance': '79,684', 'captain': 'Lionel Messi', 'formation': '4-3-3', 'referee': 'Santiago Jaime'}, {'date': '2016-03-03', 'time': '21:00', 'match_id': 'a3faab98', 'league_name': 'La Liga', 'league_id': 12, 'opponent': 'Rayo Vallecano', 'opponent_id': '98e8af82', 'home_away': 'Away', 'result': 'W', 'gf': 5, 'ga': 1, 'attendance': '14,430', 'captain': 'Andrés Iniesta', 'formation': '4-3-3', 'referee': 'Iñaki Bikandi'}, {'date': '2016-03-06', 'time': '16:00', 'match_id': 'c1d583c3', 'league_name': 'La Liga', 'league_id': 12, 'opponent': 'Eibar', 'opponent_id': 'bea5c710', 'home_away': 'Away', 'result': 'W', 'gf': 4, 'ga': 0, 'attendance': '6,100', 'captain': 'Lionel Messi', 'formation': '4-3-3', 'referee': 'Alberto Undiano'}, {'date': '2016-03-12', 'time': '16:00', 'match_id': '25d107dc', 'league_name': 'La Liga', 'league_id': 12, 'opponent': 'Getafe', 'opponent_id': '7848bd64', 'home_away': 'Home', 'result': 'W', 'gf': 6, 'ga': 0, 'attendance': '87,533', 'captain': 'Andrés Iniesta', 'formation': '4-3-3', 'referee': 'Pedro Pérez'}, {'date': '2016-03-16', 'time': '20:45', 'match_id': '7f1594ed', 'league_name': 'Champions Lg', 'league_id': 8, 'opponent': 'Arsenal', 'opponent_id': '18bb7c10', 'home_away': 'Home', 'result': 'W', 'gf': 3, 'ga': 1, 'attendance': '76,092', 'captain': 'Andrés Iniesta', 'formation': '4-3-3', 'referee': 'Sergey Karasev'}, {'date': '2016-03-20', 'time': '16:00', 'match_id': '991a1af3', 'league_name': 'La Liga', 'league_id': 12, 'opponent': 'Villarreal', 'opponent_id': '2a8183b3', 'home_away': 'Away', 'result': 'D', 'gf': 2, 'ga': 2, 'attendance': '24,398', 'captain': 'Lionel Messi', 'formation': '4-3-3', 'referee': 'José Sánchez'}, {'date': '2016-04-02', 'time': '20:30', 'match_id': '5877259d', 'league_name': 'La Liga', 'league_id': 12, 'opponent': 'Real Madrid', 'opponent_id': '53a2f082', 'home_away': 'Home', 'result': 'L', 'gf': 1, 'ga': 2, 'attendance': '3,665', 'captain': 'Andrés Iniesta', 'formation': '4-3-3', 'referee': 'Alejandro Hernández'}, {'date': '2016-04-05', 'time': '20:45', 'match_id': '5a971f31', 'league_name': 'Champions Lg', 'league_id': 8, 'opponent': 'Atlético Madrid', 'opponent_id': 'db3b9613', 'home_away': 'Home', 'result': 'W', 'gf': 2, 'ga': 1, 'attendance': '88,534', 'captain': 'Andrés Iniesta', 'formation': '4-3-3', 'referee': 'Felix Brych'}, {'date': '2016-04-09', 'time': '20:30', 'match_id': 'd88ae3a2', 'league_name': 'La Liga', 'league_id': 12, 'opponent': 'Real Sociedad', 'opponent_id': 'e31d1cd9', 'home_away': 'Away', 'result': 'L', 'gf': 0, 'ga': 1, 'attendance': '27,895', 'captain': 'Lionel Messi', 'formation': '4-3-3', 'referee': 'Ignacio Iglesias'}, {'date': '2016-04-13', 'time': '20:45', 'match_id': '858996ab', 'league_name': 'Champions Lg', 'league_id': 8, 'opponent': 'Atlético Madrid', 'opponent_id': 'db3b9613', 'home_away': 'Away', 'result': 'L', 'gf': 0, 'ga': 2, 'attendance': '52,851', 'captain': 'Andrés Iniesta', 'formation': '4-3-3', 'referee': 'Nicola Rizzoli'}, {'date': '2016-04-17', 'time': '20:30', 'match_id': 'deb6b433', 'league_name': 'La Liga', 'league_id': 12, 'opponent': 'Valencia', 'opponent_id': 'dcc91a7b', 'home_away': 'Home', 'result': 'L', 'gf': 1, 'ga': 2, 'attendance': '88,667', 'captain': 'Andrés Iniesta', 'formation': '4-3-3', 'referee': 'David Fernández'}, {'date': '2016-04-20', 'time': '20:00', 'match_id': '7412ec7a', 'league_name': 'La Liga', 'league_id': 12, 'opponent': 'La Coruña', 'opponent_id': '2a60ed82', 'home_away': 'Away', 'result': 'W', 'gf': 8, 'ga': 0, 'attendance': '28,956', 'captain': 'Andrés Iniesta', 'formation': '4-3-3', 'referee': 'Ricardo de Burgos'}, {'date': '2016-04-23', 'time': '20:30', 'match_id': '2099b235', 'league_name': 'La Liga', 'league_id': 12, 'opponent': 'Sporting Gijón', 'opponent_id': 'bb9efd50', 'home_away': 'Home', 'result': 'W', 'gf': 6, 'ga': 0, 'attendance': '77,299', 'captain': 'Andrés Iniesta', 'formation': '4-3-3', 'referee': 'Carlos Clos Gómez'}, {'date': '2016-04-30', 'time': '20:30', 'match_id': 'b5e9cec0', 'league_name': 'La Liga', 'league_id': 12, 'opponent': 'Betis', 'opponent_id': 'fc536746', 'home_away': 'Away', 'result': 'W', 'gf': 2, 'ga': 0, 'attendance': '40,467', 'captain': 'Andrés Iniesta', 'formation': '4-3-3', 'referee': 'Antonio Matéu Lahoz'}, {'date': '2016-05-08', 'time': '17:00', 'match_id': '7363a1b9', 'league_name': 'La Liga', 'league_id': 12, 'opponent': 'Espanyol', 'opponent_id': 'a8661628', 'home_away': 'Home', 'result': 'W', 'gf': 5, 'ga': 0, 'attendance': '91,610', 'captain': 'Andrés Iniesta', 'formation': '4-3-3', 'referee': 'Jesús Gil'}, {'date': '2016-05-14', 'time': '17:00', 'match_id': '2de83512', 'league_name': 'La Liga', 'league_id': 12, 'opponent': 'Granada', 'opponent_id': 'a0435291', 'home_away': 'Away', 'result': 'W', 'gf': 3, 'ga': 0, 'attendance': '21,692', 'captain': 'Andrés Iniesta', 'formation': '4-3-3', 'referee': 'Alejandro Hernández'}, {'date': '2016-05-22', 'time': '21:30', 'match_id': 'd739f86a', 'league_name': 'Copa del Rey', 'league_id': 569, 'opponent': 'Sevilla', 'opponent_id': 'ad2be733', 'home_away': 'Home', 'result': 'W', 'gf': 2, 'ga': 0, 'attendance': '54,907', 'captain': '', 'formation': '', 'referee': 'Carlos del Cerro'}]}}}\n"
     ]
    }
   ],
   "source": [
    "url = \"https://fbrapi.com/teams\"\n",
    "jugadores = {}\n",
    "no_añadidos = {}\n",
    "for x, a in lista_equipos.items():\n",
    "    params = {\n",
    "        \"team_id\": a,\n",
    "        \"season_id\": x\n",
    "        }\n",
    "    headers = {\"X-API-Key\": api_key}\n",
    "    response = requests.get(url, params=params, headers=headers)\n",
    "    print(f\"equipo {a}, año {x}, {response.status_code}\")\n",
    "    if response.status_code == 200:\n",
    "        jugadores[x] = response.json()\n",
    "    else:\n",
    "        if x not in no_añadidos:\n",
    "            no_añadidos[x] = []\n",
    "        no_añadidos[x].append(a)\n",
    "    time.sleep(6)\n",
    "print(jugadores)"
   ]
  },
  {
   "cell_type": "code",
   "execution_count": 9,
   "id": "8b909da3",
   "metadata": {},
   "outputs": [
    {
     "name": "stdout",
     "output_type": "stream",
     "text": [
      "Equipo 206d90db, Año 2015-2016, Status: 200\n",
      "Equipo 53a2f082, Año 2015-2016, Status: 200\n",
      "Equipo db3b9613, Año 2015-2016, Status: 200\n",
      "Equipo 2a8183b3, Año 2015-2016, Status: 200\n",
      "Equipo 2b390eca, Año 2015-2016, Status: 200\n",
      "Equipo f25da7fb, Año 2015-2016, Status: 200\n",
      "Equipo ad2be733, Año 2015-2016, Status: 200\n",
      "Equipo 1c896955, Año 2015-2016, Status: 200\n",
      "Equipo e31d1cd9, Año 2015-2016, Status: 200\n",
      "Equipo fc536746, Año 2015-2016, Status: 200\n",
      "Equipo 0049d422, Año 2015-2016, Status: 200\n",
      "Equipo dcc91a7b, Año 2015-2016, Status: 200\n",
      "Equipo a8661628, Año 2015-2016, Status: 200\n",
      "Equipo bea5c710, Año 2015-2016, Status: 200\n",
      "Equipo 2a60ed82, Año 2015-2016, Status: 200\n",
      "Equipo a0435291, Año 2015-2016, Status: 200\n",
      "Equipo bb9efd50, Año 2015-2016, Status: 200\n",
      "Equipo 98e8af82, Año 2015-2016, Status: 200\n",
      "Equipo 7848bd64, Año 2015-2016, Status: 200\n",
      "Equipo 9800b6a1, Año 2015-2016, Status: 200\n"
     ]
    }
   ],
   "source": [
    "url = \"https://fbrapi.com/teams\"\n",
    "jugadores = {}\n",
    "no_añadidos = {}\n",
    "headers = {\"X-API-Key\": api_key}\n",
    "\n",
    "for temporada, lista_ids in lista_equipos.items():  # lista_ids es una lista de team_ids\n",
    "    for team_id in lista_ids:\n",
    "        params = {\n",
    "            \"team_id\": team_id,\n",
    "            \"season_id\": temporada\n",
    "        }\n",
    "        try:\n",
    "            response = requests.get(url, params=params, headers=headers)\n",
    "            print(f\"Equipo {team_id}, Año {temporada}, Status: {response.status_code}\")\n",
    "\n",
    "            if response.status_code == 200:\n",
    "                if temporada not in jugadores:\n",
    "                    jugadores[temporada] = {}  # lista de equipos para esa temporada\n",
    "                jugadores[temporada][team_id] = response.json()\n",
    "            else:\n",
    "                if temporada not in no_añadidos:\n",
    "                    no_añadidos[temporada] = {}\n",
    "                no_añadidos[temporada].append(team_id)\n",
    "\n",
    "        except Exception as e:\n",
    "            print(f\"Error en temporada {temporada}, equipo {team_id}: {e}\")\n",
    "            if temporada not in no_añadidos:\n",
    "                no_añadidos[temporada] = {}\n",
    "            no_añadidos[temporada].append(team_id)\n",
    "        time.sleep(6)  # por si hay límite de llamadas\n"
   ]
  },
  {
   "cell_type": "code",
   "execution_count": 10,
   "id": "aad91cc0",
   "metadata": {},
   "outputs": [],
   "source": [
    "df_jugadores = []\n",
    "for x, i in jugadores.items():  # x = temporada, i = diccionario de equipos\n",
    "    for a, b in i.items():      # a = team_id, b = contenido (team_roster, team_schedule)\n",
    "        c = b[\"team_roster\"]\n",
    "        for d, e in c.items():  # c debería ser \"data\"\n",
    "            for f in e:  # e = jugador (diccionario)\n",
    "                f[\"season_id\"] = x\n",
    "                f[\"team_id\"] = a\n",
    "                df_jugadores.append(f)\n",
    "\n",
    "# Crear el DataFrame\n",
    "df_jugadores = pd.DataFrame(df_jugadores)  "
   ]
  },
  {
   "cell_type": "code",
   "execution_count": 20,
   "id": "e2c961ef",
   "metadata": {},
   "outputs": [],
   "source": [
    "url = \"https://fbrapi.com/player-season-stats\"\n",
    "headers = {\"X-API-Key\": api_key}\n",
    "data_jugadores = {}\n",
    "for x, i in lista_equipos.items():\n",
    "    for team_id in i:\n",
    "        params = {\n",
    "        \"team_id\": team_id,\n",
    "        \"league_id\": 12,\n",
    "        \"season_id\": \"2015-2016\"}\n",
    "        response = requests.get(url, params=params, headers=headers)\n",
    "        if response.status_code == 200:\n",
    "            data_jugadores[team_id] = response.json()\n",
    "        time.sleep(3)\n"
   ]
  },
  {
   "cell_type": "code",
   "execution_count": null,
   "id": "af92b80a",
   "metadata": {},
   "outputs": [],
   "source": [
    "for team_id, team_info in data_jugadores.items():\n",
    "    print(team_info)\n",
    "    for player in team_info['players']:\n",
    "        print(player)"
   ]
  },
  {
   "cell_type": "code",
   "execution_count": null,
   "id": "5fb71c53",
   "metadata": {},
   "outputs": [],
   "source": [
    "data_jugadores"
   ]
  },
  {
   "cell_type": "code",
   "execution_count": 32,
   "id": "8900b053",
   "metadata": {},
   "outputs": [],
   "source": [
    "# Lista para almacenar los datos de cada jugador\n",
    "players_data = []\n",
    "\n",
    "# Iteramos sobre cada equipo en el diccionario\n",
    "for team_id, team_info in data_jugadores.items():\n",
    "    # Iteramos sobre cada jugador en el equipo\n",
    "    for player in team_info['players']:\n",
    "        # Creamos un diccionario base con el ID del equipo\n",
    "        player_dict = {'team_id': team_id}\n",
    "        \n",
    "        # Añadimos todos los campos de meta_data con prefijo 'meta_'\n",
    "        for key, value in player['meta_data'].items():\n",
    "            player_dict[f'{key}'] = value\n",
    "        \n",
    "        # Añadimos todos los campos de stats.stats con prefijo 'stats_'\n",
    "        for key, value in player['stats']['stats'].items():\n",
    "            player_dict[f'{key}'] = value\n",
    "        \n",
    "        # Añadimos todos los campos de stats.playingtime con prefijo 'playingtime_'\n",
    "        for key, value in player['stats']['playingtime'].items():\n",
    "            player_dict[f'{key}'] = value\n",
    "        \n",
    "        # Añadimos este jugador a la lista\n",
    "        players_data.append(player_dict)\n",
    "\n",
    "# Creamos el DataFrame\n",
    "df_info = pd.DataFrame(players_data)"
   ]
  },
  {
   "cell_type": "code",
   "execution_count": 34,
   "id": "ce5c54ea",
   "metadata": {},
   "outputs": [
    {
     "data": {
      "text/plain": [
       "Index(['team_id', 'player_id', 'player_name', 'player_country_code', 'age',\n",
       "       'positions', 'matches_played', 'starts', 'min', 'gls', 'ast',\n",
       "       'non_pen_gls', 'pk_made', 'pk_att', 'yellow_cards', 'red_cards',\n",
       "       'per90_gls', 'per90_ast', 'per90_non_pen_gls', 'min_per_match_played',\n",
       "       'pct_squad_min', 'avg_min_starter', 'subs', 'avg_min_sub', 'unused_sub',\n",
       "       'team_gls_on_pitch', 'team_gls_ag_on_pitch', 'per90_plus_minus',\n",
       "       'per90_on_off'],\n",
       "      dtype='object')"
      ]
     },
     "execution_count": 34,
     "metadata": {},
     "output_type": "execute_result"
    }
   ],
   "source": [
    "df_info.columns"
   ]
  },
  {
   "cell_type": "code",
   "execution_count": 36,
   "id": "63730808",
   "metadata": {},
   "outputs": [],
   "source": [
    "df_info = df_info.dropna(subset=['player_id'])"
   ]
  },
  {
   "cell_type": "code",
   "execution_count": 38,
   "id": "587e5793",
   "metadata": {},
   "outputs": [],
   "source": [
    "df_info.to_csv(\"data/jugadores_LaLiga_completo.csv\", index = False)"
   ]
  }
 ],
 "metadata": {
  "kernelspec": {
   "display_name": "venv",
   "language": "python",
   "name": "python3"
  },
  "language_info": {
   "codemirror_mode": {
    "name": "ipython",
    "version": 3
   },
   "file_extension": ".py",
   "mimetype": "text/x-python",
   "name": "python",
   "nbconvert_exporter": "python",
   "pygments_lexer": "ipython3",
   "version": "3.12.5"
  }
 },
 "nbformat": 4,
 "nbformat_minor": 5
}
