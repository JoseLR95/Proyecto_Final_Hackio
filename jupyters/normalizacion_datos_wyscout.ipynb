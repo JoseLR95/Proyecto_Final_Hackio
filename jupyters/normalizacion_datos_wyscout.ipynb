{
 "cells": [
  {
   "cell_type": "code",
   "execution_count": 2,
   "id": "58d7acc2",
   "metadata": {},
   "outputs": [],
   "source": [
    "import pandas as pd\n",
    "from statsbombpy import sb\n",
    "from rapidfuzz import process, fuzz\n",
    "import src as src"
   ]
  },
  {
   "cell_type": "code",
   "execution_count": 3,
   "id": "23d938b0",
   "metadata": {},
   "outputs": [
    {
     "name": "stderr",
     "output_type": "stream",
     "text": [
      "c:\\Users\\pepel\\Hackio\\ProyectoFinalHackio\\ProyectoFinalHackio\\venv\\Lib\\site-packages\\statsbombpy\\api_client.py:21: NoAuthWarning: credentials were not supplied. open data access only\n",
      "  warnings.warn(\n"
     ]
    }
   ],
   "source": [
    "df_statsbomb = sb.matches(competition_id=11, season_id = 27)\n",
    "df_wyscout = pd.read_excel(\"data/Team Stats Consolidado.xlsx\")"
   ]
  },
  {
   "cell_type": "code",
   "execution_count": 4,
   "id": "9fb7cd16",
   "metadata": {},
   "outputs": [],
   "source": [
    "clubs_statsbomb = df_statsbomb[\"home_team\"].unique().tolist()\n",
    "clubs_wyscout = df_wyscout[\"Local\"].unique().tolist()\n",
    "clubs_wyscout_stats = df_wyscout[\"Stats Equipo\"].unique().tolist()"
   ]
  },
  {
   "cell_type": "code",
   "execution_count": 5,
   "id": "9b7654f1",
   "metadata": {},
   "outputs": [],
   "source": [
    "df_wyscout['Visitante'] = df_wyscout['Visitante'].str.strip()\n",
    "df_wyscout['Local'] = df_wyscout['Local'].str.strip()\n",
    "df_wyscout['Stats Equipo'] = df_wyscout['Stats Equipo'].str.strip()"
   ]
  },
  {
   "cell_type": "code",
   "execution_count": 6,
   "id": "db0fa15c",
   "metadata": {},
   "outputs": [],
   "source": [
    "df_clubes = src.normalizacion_nombres(clubs_statsbomb, clubs_wyscout)"
   ]
  },
  {
   "cell_type": "code",
   "execution_count": 7,
   "id": "5d0f8579",
   "metadata": {},
   "outputs": [],
   "source": [
    "df_clubes_stats = src.normalizacion_nombres(clubs_wyscout_stats, clubs_statsbomb)"
   ]
  },
  {
   "cell_type": "code",
   "execution_count": 8,
   "id": "656fe097",
   "metadata": {},
   "outputs": [],
   "source": [
    "# Crear diccionario\n",
    "dict_nombres_equipos = dict(zip(df_clubes[\"Nombre_unificado\"], df_clubes[\"Nombre_original\"]))"
   ]
  },
  {
   "cell_type": "code",
   "execution_count": 9,
   "id": "f577de48",
   "metadata": {},
   "outputs": [],
   "source": [
    "# Mapear nombres en todas las columnas\n",
    "df_wyscout[\"Local\"] = df_wyscout[\"Local\"].map(dict_nombres_equipos)\n",
    "df_wyscout[\"Visitante\"] = df_wyscout[\"Visitante\"].map(dict_nombres_equipos)"
   ]
  },
  {
   "cell_type": "code",
   "execution_count": 10,
   "id": "67fb6608",
   "metadata": {},
   "outputs": [],
   "source": [
    "# Crear diccionario\n",
    "dict_nombres_equipos_stats = dict(zip(df_clubes_stats[\"Nombre_original\"], df_clubes_stats[\"Nombre_unificado\"]))\n",
    "# Mapear nombres en todas las columnas\n",
    "df_wyscout[\"Stats Equipo\"] = df_wyscout[\"Stats Equipo\"].map(dict_nombres_equipos_stats)"
   ]
  },
  {
   "cell_type": "code",
   "execution_count": 11,
   "id": "619ac48c",
   "metadata": {},
   "outputs": [],
   "source": [
    "df_combinado = df_wyscout.merge(\n",
    "    df_statsbomb[[\"home_team\", \"away_team\", \"match_id\"]],\n",
    "    left_on=[\"Local\", \"Visitante\"],\n",
    "    right_on=[\"home_team\", \"away_team\"],\n",
    "    how=\"left\"\n",
    ")"
   ]
  },
  {
   "cell_type": "code",
   "execution_count": 12,
   "id": "096a2ee6",
   "metadata": {},
   "outputs": [],
   "source": [
    "df_combinado.to_csv(\"data/Team_Stats_Normalizado.csv\", index=False)"
   ]
  }
 ],
 "metadata": {
  "kernelspec": {
   "display_name": "venv",
   "language": "python",
   "name": "python3"
  },
  "language_info": {
   "codemirror_mode": {
    "name": "ipython",
    "version": 3
   },
   "file_extension": ".py",
   "mimetype": "text/x-python",
   "name": "python",
   "nbconvert_exporter": "python",
   "pygments_lexer": "ipython3",
   "version": "3.12.5"
  }
 },
 "nbformat": 4,
 "nbformat_minor": 5
}
