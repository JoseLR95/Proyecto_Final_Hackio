{
 "cells": [
  {
   "cell_type": "code",
   "execution_count": 3,
   "id": "40feb25d",
   "metadata": {},
   "outputs": [],
   "source": [
    "import pandas as pd\n",
    "from rapidfuzz import process, fuzz\n",
    "import src as src\n",
    "pd.set_option('display.max_columns', None)"
   ]
  },
  {
   "cell_type": "code",
   "execution_count": 2,
   "id": "9926a3d0",
   "metadata": {},
   "outputs": [
    {
     "name": "stderr",
     "output_type": "stream",
     "text": [
      "C:\\Users\\pepel\\AppData\\Local\\Temp\\ipykernel_76340\\3719518088.py:1: DtypeWarning: Columns (0,1,3,11,12,19,34,37,39,40,41,42,43,44,45,46,47,49,50,51,52,53,55,56,57,58,59,60,71,73,92,93,94,95,96,97,98,99,100,101,102,103,104,105,106,107,108,109,110,111,112,113,114,115,116) have mixed types. Specify dtype option on import or set low_memory=False.\n",
      "  df_eventos = pd.read_csv(\"data/df_eventos_liga2015.csv\")\n"
     ]
    }
   ],
   "source": [
    "df_eventos = pd.read_csv(\"data/df_eventos_liga2015.csv\")"
   ]
  },
  {
   "cell_type": "code",
   "execution_count": 3,
   "id": "b5ea55f9",
   "metadata": {},
   "outputs": [],
   "source": [
    "df_lesiones = pd.read_csv(\"data/lesiones_completo.csv\")"
   ]
  },
  {
   "cell_type": "code",
   "execution_count": 4,
   "id": "deb58841",
   "metadata": {},
   "outputs": [],
   "source": [
    "df_jugadoresunicos_eventos = df_eventos[\"player\"].unique().tolist()\n",
    "df_jugadoresunicos = df_lesiones[\"href\"].unique().tolist()\n",
    "df_clubesunicos_eventos = df_eventos[\"team\"].unique().tolist()\n",
    "df_clubesunicos = df_lesiones[\"equipo\"].unique().tolist()"
   ]
  },
  {
   "cell_type": "code",
   "execution_count": 5,
   "id": "38da5702",
   "metadata": {},
   "outputs": [
    {
     "ename": "NameError",
     "evalue": "name 'df_jugadoresunicos' is not defined",
     "output_type": "error",
     "traceback": [
      "\u001b[31m---------------------------------------------------------------------------\u001b[39m",
      "\u001b[31mNameError\u001b[39m                                 Traceback (most recent call last)",
      "\u001b[36mCell\u001b[39m\u001b[36m \u001b[39m\u001b[32mIn[5]\u001b[39m\u001b[32m, line 1\u001b[39m\n\u001b[32m----> \u001b[39m\u001b[32m1\u001b[39m df_nombres = src.normalizacion_nombres(\u001b[43mdf_jugadoresunicos\u001b[49m, df_jugadoresunicos_eventos)\n",
      "\u001b[31mNameError\u001b[39m: name 'df_jugadoresunicos' is not defined"
     ]
    }
   ],
   "source": [
    "df_nombres = src.normalizacion_nombres(df_jugadoresunicos, df_jugadoresunicos_eventos)"
   ]
  },
  {
   "cell_type": "code",
   "execution_count": null,
   "id": "e408c52b",
   "metadata": {},
   "outputs": [],
   "source": [
    "df_clubes = src.normalizacion_nombres(df_clubesunicos, df_clubesunicos_eventos)"
   ]
  },
  {
   "cell_type": "code",
   "execution_count": 7,
   "id": "b99486e6",
   "metadata": {},
   "outputs": [
    {
     "data": {
      "text/html": [
       "<div>\n",
       "<style scoped>\n",
       "    .dataframe tbody tr th:only-of-type {\n",
       "        vertical-align: middle;\n",
       "    }\n",
       "\n",
       "    .dataframe tbody tr th {\n",
       "        vertical-align: top;\n",
       "    }\n",
       "\n",
       "    .dataframe thead th {\n",
       "        text-align: right;\n",
       "    }\n",
       "</style>\n",
       "<table border=\"1\" class=\"dataframe\">\n",
       "  <thead>\n",
       "    <tr style=\"text-align: right;\">\n",
       "      <th></th>\n",
       "      <th>Nombre_original</th>\n",
       "      <th>Nombre_unificado</th>\n",
       "    </tr>\n",
       "  </thead>\n",
       "  <tbody>\n",
       "    <tr>\n",
       "      <th>193</th>\n",
       "      <td>Yroundou Musavu-King</td>\n",
       "      <td>None</td>\n",
       "    </tr>\n",
       "    <tr>\n",
       "      <th>205</th>\n",
       "      <td>Ousseynou Cissé</td>\n",
       "      <td>None</td>\n",
       "    </tr>\n",
       "  </tbody>\n",
       "</table>\n",
       "</div>"
      ],
      "text/plain": [
       "          Nombre_original Nombre_unificado\n",
       "193  Yroundou Musavu-King             None\n",
       "205       Ousseynou Cissé             None"
      ]
     },
     "execution_count": 7,
     "metadata": {},
     "output_type": "execute_result"
    }
   ],
   "source": [
    "df_nombres[df_nombres[\"Nombre_unificado\"].isnull()]"
   ]
  },
  {
   "cell_type": "code",
   "execution_count": 8,
   "id": "85de85b9",
   "metadata": {},
   "outputs": [],
   "source": [
    "dict_nombres_info = df_nombres.set_index('Nombre_original')['Nombre_unificado'].to_dict()"
   ]
  },
  {
   "cell_type": "code",
   "execution_count": 9,
   "id": "7fa7847f",
   "metadata": {},
   "outputs": [],
   "source": [
    "df_lesiones[\"href\"] = df_lesiones[\"href\"].apply(\n",
    "    lambda x: dict_nombres_info.get(x, x) if dict_nombres_info.get(x) is not None else x\n",
    ")"
   ]
  },
  {
   "cell_type": "code",
   "execution_count": 10,
   "id": "4b0c87bc",
   "metadata": {},
   "outputs": [],
   "source": [
    "# Crear diccionario para mapear los equipos\n",
    "df_equipos_jugadores = df_eventos[[\"player\", \"team\"]].drop_duplicates()\n",
    "dict_equipos_jugadores = dict(zip(df_equipos_jugadores[\"player\"], df_equipos_jugadores[\"team\"]))\n",
    "# Mapear los equipos en la temporada 2015/2016 ya que la info que aparece es actual\n",
    "df_lesiones[\"equipo\"] = df_lesiones[\"href\"].map(dict_equipos_jugadores)"
   ]
  },
  {
   "cell_type": "code",
   "execution_count": 11,
   "id": "546df310",
   "metadata": {},
   "outputs": [],
   "source": [
    "# Crear diccionarios para mapear los IDs de jugador y equipo\n",
    "df_equipos = df_eventos[[\"team\", \"team_id\"]].drop_duplicates()\n",
    "dict_equipos = dict(zip(df_equipos[\"team\"], df_equipos[\"team_id\"]))\n",
    "df_jugadores = df_eventos[[\"player\", \"player_id\"]].drop_duplicates()\n",
    "dict_jugadores = dict(zip(df_jugadores[\"player\"], df_jugadores[\"player_id\"]))"
   ]
  },
  {
   "cell_type": "code",
   "execution_count": 12,
   "id": "1b15b7ea",
   "metadata": {},
   "outputs": [],
   "source": [
    "# Mapear ID Jugadores\n",
    "df_lesiones[\"playerID\"] = df_lesiones[\"href\"].map(dict_jugadores)\n",
    "# Mapear ID Equipos\n",
    "df_lesiones[\"clubID\"] = df_lesiones[\"equipo\"].map(dict_equipos)"
   ]
  },
  {
   "cell_type": "code",
   "execution_count": 13,
   "id": "8f34dba4",
   "metadata": {},
   "outputs": [],
   "source": [
    "tipo_lesiones_unico = df_lesiones[\"TIPO\"].unique().tolist()\n",
    "subtipo_lesiones_unico = df_lesiones[\"SUB TIPO\"].unique().tolist()"
   ]
  },
  {
   "cell_type": "code",
   "execution_count": 14,
   "id": "0e41ec5f",
   "metadata": {},
   "outputs": [],
   "source": [
    "dict_subtipo = {}\n",
    "item = 0\n",
    "for x in subtipo_lesiones_unico:\n",
    "    item = item + 1\n",
    "    dict_subtipo[x] = item\n",
    "\n",
    "dict_tipo = {}\n",
    "item_1 = 1\n",
    "for x in tipo_lesiones_unico:\n",
    "    item_1 = item_1 + 1\n",
    "    dict_tipo[x] = item_1"
   ]
  },
  {
   "cell_type": "code",
   "execution_count": 15,
   "id": "1ffa593c",
   "metadata": {},
   "outputs": [],
   "source": [
    "df_lesiones[\"TIPO_ID\"] = df_lesiones[\"TIPO\"].map(dict_tipo)\n",
    "df_lesiones[\"SUB_TIPO_ID\"] = df_lesiones[\"SUB TIPO\"].map(dict_subtipo)"
   ]
  },
  {
   "cell_type": "code",
   "execution_count": 16,
   "id": "7fe0b217",
   "metadata": {},
   "outputs": [],
   "source": [
    "df_lesiones.to_csv(\"data/lesiones_completo_normalizado.csv\", index=False)"
   ]
  }
 ],
 "metadata": {
  "kernelspec": {
   "display_name": "venv",
   "language": "python",
   "name": "python3"
  },
  "language_info": {
   "codemirror_mode": {
    "name": "ipython",
    "version": 3
   },
   "file_extension": ".py",
   "mimetype": "text/x-python",
   "name": "python",
   "nbconvert_exporter": "python",
   "pygments_lexer": "ipython3",
   "version": "3.12.5"
  }
 },
 "nbformat": 4,
 "nbformat_minor": 5
}
