{
 "cells": [
  {
   "cell_type": "code",
   "execution_count": 1,
   "id": "d15efdd8",
   "metadata": {},
   "outputs": [],
   "source": [
    "import pandas as pd\n",
    "pd.set_option('display.max_columns', None)\n",
    "import os\n",
    "from dotenv import load_dotenv\n",
    "import requests\n",
    "from src import insertar_datos_automatico, conexion_postgres, convertir_fechaeventos\n",
    "import psycopg2\n",
    "import datetime"
   ]
  },
  {
   "cell_type": "code",
   "execution_count": 2,
   "id": "f6851281",
   "metadata": {},
   "outputs": [],
   "source": [
    "df_lesiones = pd.read_csv(\"data/lesiones_completo_normalizado.csv\")"
   ]
  },
  {
   "cell_type": "code",
   "execution_count": 3,
   "id": "f6b841cb",
   "metadata": {},
   "outputs": [],
   "source": [
    "df_lesiones.rename(columns = {\n",
    "    'JUGADOR': 'Nombre_Jugador',\n",
    "    'href': 'Nombre_Completo_Jugador',\n",
    "    'equipo': 'Club',\n",
    "    'TIPO': 'Tipo_Lesion',\n",
    "    'SUB TIPO': 'Sub_Tipo_Lesion',\n",
    "    'TIPO_ID': 'Tipo_Lesion_ID',\n",
    "    'SUB_TIPO_ID': 'Sub_Tipo_Lesion_ID',\n",
    "    'DATA': 'Fecha_incio_lesion',\n",
    "    'FIM': 'Fecha_fin_lesion'\n",
    "}, inplace = True)"
   ]
  },
  {
   "cell_type": "code",
   "execution_count": 4,
   "id": "746cb783",
   "metadata": {},
   "outputs": [],
   "source": [
    "df_lesiones = convertir_fechaeventos(df_lesiones)"
   ]
  },
  {
   "cell_type": "code",
   "execution_count": 5,
   "id": "83a06c31",
   "metadata": {},
   "outputs": [],
   "source": [
    "df_lesiones = df_lesiones.dropna(subset=[\"playerID\"])\n",
    "df_lesiones[\"playerID\"] = df_lesiones[\"playerID\"].astype(int)\n",
    "df_lesiones[\"clubID\"] = df_lesiones[\"clubID\"].astype(int)"
   ]
  },
  {
   "cell_type": "code",
   "execution_count": 6,
   "id": "943b18e5",
   "metadata": {},
   "outputs": [
    {
     "data": {
      "text/plain": [
       "Nombre_Jugador             object\n",
       "Tipo_Lesion                object\n",
       "Sub_Tipo_Lesion            object\n",
       "Fecha_incio_lesion         object\n",
       "Fecha_fin_lesion           object\n",
       "Nombre_Completo_Jugador    object\n",
       "Club                       object\n",
       "playerID                    int64\n",
       "clubID                      int64\n",
       "Tipo_Lesion_ID              int64\n",
       "Sub_Tipo_Lesion_ID          int64\n",
       "dtype: object"
      ]
     },
     "execution_count": 6,
     "metadata": {},
     "output_type": "execute_result"
    }
   ],
   "source": [
    "df_lesiones.dtypes"
   ]
  },
  {
   "cell_type": "code",
   "execution_count": 7,
   "id": "48fc4358",
   "metadata": {},
   "outputs": [],
   "source": [
    "df_lesiones = df_lesiones[df_lesiones[\"Tipo_Lesion\"] == \"Injury\"]"
   ]
  },
  {
   "cell_type": "code",
   "execution_count": 8,
   "id": "33d2b33a",
   "metadata": {},
   "outputs": [],
   "source": [
    "df_lesiones.drop(columns=([\"Tipo_Lesion_ID\", \"Tipo_Lesion\"]), inplace=True)"
   ]
  },
  {
   "cell_type": "code",
   "execution_count": 12,
   "id": "f52440cb",
   "metadata": {},
   "outputs": [],
   "source": [
    "df_lesiones.rename(columns = {\n",
    "    'Sub_Tipo_Lesion': 'Tipo_Lesion',\n",
    "    'Sub_Tipo_Lesion_ID': 'Tipo_Lesion_ID',\n",
    "}, inplace = True)"
   ]
  },
  {
   "cell_type": "code",
   "execution_count": 13,
   "id": "7ec7c235",
   "metadata": {},
   "outputs": [],
   "source": [
    "tabla_indice_lesiones = df_lesiones[[\"Tipo_Lesion\", \"Tipo_Lesion_ID\"]].drop_duplicates()"
   ]
  },
  {
   "cell_type": "code",
   "execution_count": 17,
   "id": "51c711c3",
   "metadata": {},
   "outputs": [],
   "source": [
    "df_lesiones[\"ID_Lesion\"] = df_lesiones[\"Nombre_Jugador\"].index"
   ]
  },
  {
   "cell_type": "code",
   "execution_count": 19,
   "id": "b86ea4d8",
   "metadata": {},
   "outputs": [
    {
     "name": "stdout",
     "output_type": "stream",
     "text": [
      "('PostgreSQL 16.4, compiled by Visual C++ build 1940, 64-bit',)\n"
     ]
    }
   ],
   "source": [
    "load_dotenv()\n",
    "dbname = os.getenv(\"dbname\")\n",
    "user = os.getenv(\"user\")\n",
    "password = os.getenv(\"password\")\n",
    "(conn,cur) = conexion_postgres(dbname, user, password)\n",
    "insertar_datos_automatico(df_lesiones,\"lesiones\", cur, conn)\n",
    "insertar_datos_automatico(tabla_indice_lesiones,\"Lesiones_indice\", cur, conn)"
   ]
  },
  {
   "cell_type": "code",
   "execution_count": 20,
   "id": "2b052a68",
   "metadata": {},
   "outputs": [],
   "source": [
    "df_lesiones.to_csv(\"data/Tabla_Lesiones.csv\", index=False)\n",
    "tabla_indice_lesiones.to_csv(\"data/Tabla_Lesiones_indice.csv\", index=False)"
   ]
  }
 ],
 "metadata": {
  "kernelspec": {
   "display_name": "venv",
   "language": "python",
   "name": "python3"
  },
  "language_info": {
   "codemirror_mode": {
    "name": "ipython",
    "version": 3
   },
   "file_extension": ".py",
   "mimetype": "text/x-python",
   "name": "python",
   "nbconvert_exporter": "python",
   "pygments_lexer": "ipython3",
   "version": "3.12.5"
  }
 },
 "nbformat": 4,
 "nbformat_minor": 5
}
