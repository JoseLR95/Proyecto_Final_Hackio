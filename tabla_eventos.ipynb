{
 "cells": [
  {
   "cell_type": "code",
   "execution_count": null,
   "id": "5f2d1f31",
   "metadata": {},
   "outputs": [],
   "source": [
    "import pandas as pd\n",
    "import numpy as np\n",
    "from src import extraer_coordenadas_manual, insertar_datos_automatico, conexion_postgres\n",
    "import psycopg2\n",
    "pd.set_option('display.max_columns', None)\n",
    "import os\n",
    "from dotenv import load_dotenv\n",
    "import requests"
   ]
  },
  {
   "cell_type": "code",
   "execution_count": null,
   "id": "6759a3ba",
   "metadata": {},
   "outputs": [],
   "source": [
    "df_eventos = pd.read_csv(\"data/df_eventos_liga2015.csv\")"
   ]
  },
  {
   "cell_type": "code",
   "execution_count": null,
   "id": "d9e6d2d0",
   "metadata": {},
   "outputs": [],
   "source": [
    "dict_id_tipo_evento = {}\n",
    "id_tipo_evento = 1\n",
    "for x in df_eventos[\"type\"].unique().tolist():\n",
    "    dict_id_tipo_evento[x] = id_tipo_evento\n",
    "    id_tipo_evento = id_tipo_evento + 1\n"
   ]
  },
  {
   "cell_type": "code",
   "execution_count": null,
   "id": "2fd013eb",
   "metadata": {},
   "outputs": [],
   "source": [
    "df_eventos[\"type_id\"] = df_eventos[\"type\"].map(dict_id_tipo_evento)"
   ]
  },
  {
   "cell_type": "code",
   "execution_count": null,
   "id": "33c3136e",
   "metadata": {},
   "outputs": [],
   "source": [
    "df_eventos.drop(columns=(['bad_behaviour_card',\n",
    " 'off_camera',\n",
    " 'related_events',\n",
    " 'substitution_outcome',\n",
    " 'substitution_outcome_id',\n",
    " 'substitution_replacement',\n",
    " 'substitution_replacement_id',\n",
    " 'shot_freeze_frame',\n",
    " '50_50',\n",
    " 'index',\n",
    " 'duration',\n",
    " 'tactics',\n",
    " \"pass_angle\",\n",
    " \"pass_length\",\n",
    " \"minute\",\n",
    " \"second\",\n",
    " 'injury_stoppage_in_chain',\n",
    " 'player_off_permanent',\n",
    " 'half_end_early_video_end']), inplace=True)"
   ]
  },
  {
   "cell_type": "code",
   "execution_count": null,
   "id": "770a686b",
   "metadata": {},
   "outputs": [],
   "source": [
    "lista_col_location = []\n",
    "for col in df_eventos.columns:\n",
    "    if \"location\" in col:\n",
    "        lista_col_location.append(col)\n",
    "for loc_col_name in lista_col_location:\n",
    "    # Nombres para las nuevas columnas de x e y\n",
    "    nueva_col_x = f\"{loc_col_name}_x\"\n",
    "    nueva_col_y = f\"{loc_col_name}_y\"\n",
    "    nueva_col_z = f\"{loc_col_name}_z\"\n",
    "    # Aplicar la función y asignar a las nuevas columnas\n",
    "    df_eventos[[nueva_col_x, nueva_col_y, nueva_col_z]] = df_eventos[loc_col_name].apply( lambda val: pd.Series(extraer_coordenadas_manual(val)))\n",
    "lista_drop = []\n",
    "for drop in df_eventos.columns:\n",
    "    if drop.startswith(\"shot\"):\n",
    "        continue\n",
    "    if \"location\" in drop and drop.endswith(\"z\"):\n",
    "        lista_drop.append(drop)\n",
    "df_eventos.drop(columns=lista_drop, inplace=True)\n",
    "df_eventos.drop(columns=lista_col_location, inplace=True)"
   ]
  },
  {
   "cell_type": "code",
   "execution_count": null,
   "id": "bbcfd65d",
   "metadata": {},
   "outputs": [
    {
     "name": "stderr",
     "output_type": "stream",
     "text": [
      "C:\\Users\\pepel\\AppData\\Local\\Temp\\ipykernel_18388\\1583794950.py:1: DtypeWarning: Columns (0,2,9,10,16,27,29,30,31,32,33,34,35,36,37,38,39,40,41,42,44,45,46,47,48,49,58,60,72,73,74,75,76,77,78,79,80,81,82,83,84,85,86,87,88,89,90,91,92) have mixed types. Specify dtype option on import or set low_memory=False.\n",
      "  df_eventos = pd.read_csv(\"data/df_eventos_liga2015_mod.csv\")\n"
     ]
    }
   ],
   "source": [
    "df_eventos = pd.read_csv(\"data/df_eventos_liga2015_mod.csv\")"
   ]
  },
  {
   "cell_type": "code",
   "execution_count": 4,
   "id": "64f397d4",
   "metadata": {},
   "outputs": [
    {
     "name": "stderr",
     "output_type": "stream",
     "text": [
      "C:\\Users\\pepel\\AppData\\Local\\Temp\\ipykernel_18388\\2590581491.py:5: FutureWarning: Downcasting object dtype arrays on .fillna, .ffill, .bfill is deprecated and will change in a future version. Call result.infer_objects(copy=False) instead. To opt-in to the future behavior, set `pd.set_option('future.no_silent_downcasting', True)`\n",
      "  df_eventos[col] = df_eventos[col].fillna(False)\n"
     ]
    }
   ],
   "source": [
    "columnas_bool = []\n",
    "\n",
    "for col in df_eventos.columns:\n",
    "    if df_eventos[col].apply(lambda x: isinstance(x, bool) and x is True).any():\n",
    "        df_eventos[col] = df_eventos[col].fillna(False)\n",
    "        columnas_bool.append(col)"
   ]
  },
  {
   "cell_type": "code",
   "execution_count": null,
   "id": "6bcdfefa",
   "metadata": {},
   "outputs": [],
   "source": [
    "type(df_eventos[\"carry_end_location_x\"][0])"
   ]
  },
  {
   "cell_type": "code",
   "execution_count": null,
   "id": "24c9d3db",
   "metadata": {},
   "outputs": [],
   "source": [
    "df_eventos.dtypes"
   ]
  },
  {
   "cell_type": "code",
   "execution_count": 6,
   "id": "2f45eb18",
   "metadata": {},
   "outputs": [
    {
     "name": "stdout",
     "output_type": "stream",
     "text": [
      "Columna match_id: Min = 265839, Max = 3825908, Type <class 'pandas.core.series.Series'>\n",
      "Columna pass_recipient_id: Min = 3023.0, Max = 220761.0, Type <class 'pandas.core.series.Series'>\n",
      "Columna period: Min = 1, Max = 2, Type <class 'pandas.core.series.Series'>\n",
      "Columna player_id: Min = 3023.0, Max = 220761.0, Type <class 'pandas.core.series.Series'>\n",
      "Columna possession: Min = 1, Max = 250, Type <class 'pandas.core.series.Series'>\n",
      "Columna possession_team_id: Min = 207, Max = 1049, Type <class 'pandas.core.series.Series'>\n",
      "Columna shot_statsbomb_xg: Min = 0.00018, Max = 0.9800704, Type <class 'pandas.core.series.Series'>\n",
      "Columna team_id: Min = 207, Max = 1049, Type <class 'pandas.core.series.Series'>\n",
      "Columna type_id: Min = 1, Max = 33, Type <class 'pandas.core.series.Series'>\n",
      "Columna carry_end_location_x: Min = 0.1, Max = 120.2, Type <class 'pandas.core.series.Series'>\n",
      "Columna carry_end_location_y: Min = 0.1, Max = 80.0, Type <class 'pandas.core.series.Series'>\n",
      "Columna goalkeeper_end_location_x: Min = 0.1, Max = 40.8, Type <class 'pandas.core.series.Series'>\n",
      "Columna goalkeeper_end_location_y: Min = 11.5, Max = 60.4, Type <class 'pandas.core.series.Series'>\n",
      "Columna location_x: Min = 0.1, Max = 120.3, Type <class 'pandas.core.series.Series'>\n",
      "Columna location_y: Min = 0.1, Max = 80.4, Type <class 'pandas.core.series.Series'>\n",
      "Columna pass_end_location_x: Min = 0.1, Max = 120.9, Type <class 'pandas.core.series.Series'>\n",
      "Columna pass_end_location_y: Min = 0.1, Max = 80.7, Type <class 'pandas.core.series.Series'>\n",
      "Columna shot_end_location_x: Min = 70.5, Max = 120.0, Type <class 'pandas.core.series.Series'>\n",
      "Columna shot_end_location_y: Min = 0.1, Max = 80.0, Type <class 'pandas.core.series.Series'>\n",
      "Columna shot_end_location_z: Min = 0.0, Max = 7.8, Type <class 'pandas.core.series.Series'>\n"
     ]
    }
   ],
   "source": [
    "for columna in df_eventos.columns:\n",
    "    if df_eventos[columna].dtype in ['int64', 'float64']:\n",
    "        min_val = df_eventos[columna].min()\n",
    "        max_val = df_eventos[columna].max()\n",
    "        print(f\"Columna {columna}: Min = {min_val}, Max = {max_val}, Type {type(df_eventos[columna])}\")"
   ]
  },
  {
   "cell_type": "code",
   "execution_count": 7,
   "id": "d9e94c45",
   "metadata": {},
   "outputs": [
    {
     "name": "stderr",
     "output_type": "stream",
     "text": [
      "C:\\Users\\pepel\\AppData\\Local\\Temp\\ipykernel_18388\\135172166.py:4: FutureWarning: A value is trying to be set on a copy of a DataFrame or Series through chained assignment using an inplace method.\n",
      "The behavior will change in pandas 3.0. This inplace method will never work because the intermediate object on which we are setting values always behaves as a copy.\n",
      "\n",
      "For example, when doing 'df[col].method(value, inplace=True)', try using 'df.method({col: value}, inplace=True)' or df[col] = df[col].method(value) instead, to perform the operation inplace on the original object.\n",
      "\n",
      "\n",
      "  df_eventos[x].replace({pd.NA: None}, inplace=True)\n",
      "C:\\Users\\pepel\\AppData\\Local\\Temp\\ipykernel_18388\\135172166.py:4: FutureWarning: A value is trying to be set on a copy of a DataFrame or Series through chained assignment using an inplace method.\n",
      "The behavior will change in pandas 3.0. This inplace method will never work because the intermediate object on which we are setting values always behaves as a copy.\n",
      "\n",
      "For example, when doing 'df[col].method(value, inplace=True)', try using 'df.method({col: value}, inplace=True)' or df[col] = df[col].method(value) instead, to perform the operation inplace on the original object.\n",
      "\n",
      "\n",
      "  df_eventos[x].replace({pd.NA: None}, inplace=True)\n",
      "C:\\Users\\pepel\\AppData\\Local\\Temp\\ipykernel_18388\\135172166.py:4: FutureWarning: A value is trying to be set on a copy of a DataFrame or Series through chained assignment using an inplace method.\n",
      "The behavior will change in pandas 3.0. This inplace method will never work because the intermediate object on which we are setting values always behaves as a copy.\n",
      "\n",
      "For example, when doing 'df[col].method(value, inplace=True)', try using 'df.method({col: value}, inplace=True)' or df[col] = df[col].method(value) instead, to perform the operation inplace on the original object.\n",
      "\n",
      "\n",
      "  df_eventos[x].replace({pd.NA: None}, inplace=True)\n"
     ]
    }
   ],
   "source": [
    "lista_cols_int = [\"match_id\", \"pass_recipient_id\", \"period\", \"player_id\", \"possession\", \"possession_team_id\", \"team_id\", \"type_id\"]\n",
    "for x in lista_cols_int:\n",
    "    df_eventos[x] = df_eventos[x].astype('Int64')\n",
    "    df_eventos[x].replace({pd.NA: None}, inplace=True)"
   ]
  },
  {
   "cell_type": "code",
   "execution_count": 8,
   "id": "6545e8b4",
   "metadata": {},
   "outputs": [],
   "source": [
    "df_eventos.replace({pd.NA: None}, inplace=True)"
   ]
  },
  {
   "cell_type": "code",
   "execution_count": 13,
   "id": "56d1207b",
   "metadata": {},
   "outputs": [],
   "source": [
    "df_prueba = df_eventos.copy()"
   ]
  },
  {
   "cell_type": "code",
   "execution_count": 15,
   "id": "63b5eb82",
   "metadata": {},
   "outputs": [],
   "source": [
    "lista_cols_nan = []\n",
    "for col in df_prueba.columns:\n",
    "    # Verificamos si hay al menos un np.nan (de tipo float y que sea np.nan)\n",
    "    # o si hay pd.NA (que puede aparecer en DataFrames con tipos de datos que soportan NA, como Int64, StringDtype)\n",
    "    contiene_npnan = df_prueba[col].apply(lambda x: isinstance(x, float) and pd.isna(x)).any()\n",
    "    contiene_pdna = df_prueba[col].isna().any() # Verifica pd.NA para cualquier tipo\n",
    "\n",
    "    if contiene_npnan or contiene_pdna:\n",
    "        # Convertimos la columna a tipo 'object' para poder mezclar tipos (float, str, None)\n",
    "        # Esto es necesario si la columna originalmente no es 'object' y queremos insertar None\n",
    "        df_prueba[col] = df_prueba[col].astype(object)\n",
    "\n",
    "        # Reemplazamos np.nan y pd.NA por None\n",
    "        # Importante: inplace=True hace que el método devuelva None, lo cual asignaría None a toda la columna.\n",
    "        # Por eso, se debe eliminar inplace=True y asignar el resultado de la operación.\n",
    "        df_prueba[col] = df_prueba[col].replace({np.nan: None, pd.NA: None})\n",
    "\n",
    "        lista_cols_nan.append(col)"
   ]
  },
  {
   "cell_type": "code",
   "execution_count": 16,
   "id": "9df3bd3b",
   "metadata": {},
   "outputs": [
    {
     "data": {
      "text/plain": [
       "array([None, 62.1, 59.1, ..., 120.4, 120.3, 120.1],\n",
       "      shape=(1206,), dtype=object)"
      ]
     },
     "execution_count": 16,
     "metadata": {},
     "output_type": "execute_result"
    }
   ],
   "source": [
    "df_prueba[\"pass_end_location_x\"].unique()"
   ]
  },
  {
   "cell_type": "code",
   "execution_count": null,
   "id": "ce5dec3d",
   "metadata": {},
   "outputs": [],
   "source": [
    "for columna in df_eventos.columns:\n",
    "    if df_eventos[columna].dtype in ['int64', 'float64']:\n",
    "        min_val = df_eventos[columna].min()\n",
    "        max_val = df_eventos[columna].max()\n",
    "        print(f\"Columna {columna}: Min = {min_val}, Max = {max_val}, Type {type(df_eventos[columna])}\")"
   ]
  },
  {
   "cell_type": "code",
   "execution_count": null,
   "id": "efb19ff0",
   "metadata": {},
   "outputs": [],
   "source": [
    "df_eventos[\"player_id\"]"
   ]
  },
  {
   "cell_type": "code",
   "execution_count": 17,
   "id": "e1524960",
   "metadata": {},
   "outputs": [],
   "source": [
    "df_eventos.rename(columns=({\"player_id\":\"playerid\",\n",
    "                            \"player\": \"nombre_completo_jugador\",\n",
    "                            \"team_id\": \"clubid\",\n",
    "                            \"team\": \"club\"}), inplace=True)"
   ]
  },
  {
   "cell_type": "code",
   "execution_count": 18,
   "id": "d3e12f10",
   "metadata": {},
   "outputs": [
    {
     "name": "stdout",
     "output_type": "stream",
     "text": [
      "('PostgreSQL 16.4, compiled by Visual C++ build 1940, 64-bit',)\n"
     ]
    }
   ],
   "source": [
    "load_dotenv()\n",
    "dbname = os.getenv(\"dbname\")\n",
    "user = os.getenv(\"user\")\n",
    "password = os.getenv(\"password\")\n",
    "(conn,cur) = conexion_postgres(dbname, user, password)\n",
    "insertar_datos_automatico(df_eventos,\"eventos\", cur, conn)"
   ]
  },
  {
   "cell_type": "code",
   "execution_count": 19,
   "id": "c2f50598",
   "metadata": {},
   "outputs": [],
   "source": [
    "df_eventos.to_csv(\"data/Tabla_Eventos.csv\", index=False)"
   ]
  }
 ],
 "metadata": {
  "kernelspec": {
   "display_name": "venv",
   "language": "python",
   "name": "python3"
  },
  "language_info": {
   "codemirror_mode": {
    "name": "ipython",
    "version": 3
   },
   "file_extension": ".py",
   "mimetype": "text/x-python",
   "name": "python",
   "nbconvert_exporter": "python",
   "pygments_lexer": "ipython3",
   "version": "3.12.5"
  }
 },
 "nbformat": 4,
 "nbformat_minor": 5
}
