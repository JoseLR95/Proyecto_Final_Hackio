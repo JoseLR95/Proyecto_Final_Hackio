{
 "cells": [
  {
   "cell_type": "code",
   "execution_count": 1,
   "id": "cafd70ca",
   "metadata": {},
   "outputs": [],
   "source": [
    "import pandas as pd\n",
    "import os\n",
    "from dotenv import load_dotenv\n",
    "import requests\n",
    "from src import insertar_datos_automatico, conexion_postgres\n",
    "pd.set_option('display.max_columns', None)\n",
    "import psycopg2"
   ]
  },
  {
   "cell_type": "code",
   "execution_count": 2,
   "id": "3ff8e89c",
   "metadata": {},
   "outputs": [],
   "source": [
    "df_completo = pd.read_csv(\"data/jugadores_info_normalizado.csv\")\n"
   ]
  },
  {
   "cell_type": "code",
   "execution_count": 3,
   "id": "3f7ee292",
   "metadata": {},
   "outputs": [],
   "source": [
    "df_clubs = df_completo[[\"club\", \"clubID\"]].drop_duplicates().dropna().reset_index().drop(columns = [\"index\"])"
   ]
  },
  {
   "cell_type": "code",
   "execution_count": null,
   "id": "ce049013",
   "metadata": {},
   "outputs": [
    {
     "data": {
      "text/plain": [
       "True"
      ]
     },
     "execution_count": 4,
     "metadata": {},
     "output_type": "execute_result"
    }
   ],
   "source": [
    "load_dotenv()\n",
    "dbname = os.getenv(\"dbname\")\n",
    "user = os.getenv(\"user\")\n",
    "password = os.getenv(\"password\")\n",
    "(conn,cur) = conexion_postgres(dbname, user, password)\n",
    "insertar_datos_automatico(df_clubs,\"clubes\", cur, conn)"
   ]
  },
  {
   "cell_type": "code",
   "execution_count": null,
   "id": "8c99f3cd",
   "metadata": {},
   "outputs": [],
   "source": [
    "df_clubs.to_csv(\"data/Tabla_Equipos.csv\", index=False)"
   ]
  }
 ],
 "metadata": {
  "kernelspec": {
   "display_name": "venv",
   "language": "python",
   "name": "python3"
  },
  "language_info": {
   "codemirror_mode": {
    "name": "ipython",
    "version": 3
   },
   "file_extension": ".py",
   "mimetype": "text/x-python",
   "name": "python",
   "nbconvert_exporter": "python",
   "pygments_lexer": "ipython3",
   "version": "3.12.5"
  }
 },
 "nbformat": 4,
 "nbformat_minor": 5
}
